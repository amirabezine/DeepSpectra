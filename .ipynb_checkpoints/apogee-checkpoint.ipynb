{
 "cells": [
  {
   "cell_type": "markdown",
   "id": "978d142f-6195-43ed-9aec-d0d1f7616de7",
   "metadata": {},
   "source": [
    "# "
   ]
  },
  {
   "cell_type": "code",
   "execution_count": 1,
   "id": "1d39768c-8f2f-4848-a53c-f6a3b0f23734",
   "metadata": {},
   "outputs": [],
   "source": [
    "import torch\n",
    "from torch.utils.data import Dataset, DataLoader\n",
    "from astropy.io import fits\n",
    "import os\n",
    "import numpy as np\n",
    "import matplotlib.pyplot as plt\n",
    "from tqdm import tqdm\n",
    "import random"
   ]
  },
  {
   "cell_type": "code",
   "execution_count": 10,
   "id": "3466aa99-8a8c-42d2-9d72-b100067da10f",
   "metadata": {},
   "outputs": [],
   "source": [
    "def ensure_native_byteorder(array):\n",
    "    if array.dtype.byteorder not in ('=', '|'):  # '=' means native, '|' means not applicable\n",
    "        return array.byteswap().newbyteorder()  # Swap byte order to native\n",
    "    return array\n",
    "\n",
    "class APOGEEDataset(Dataset):\n",
    "    def __init__(self, directory, max_files=None):\n",
    "        \"\"\"\n",
    "        Args:\n",
    "            directory (string): Directory with all the FITS files.\n",
    "            max_files (int): Maximum number of FITS files to load (optional).\n",
    "        \"\"\"\n",
    "        self.abundances = []\n",
    "        all_files = [os.path.join(directory, f) for f in os.listdir(directory) if f.endswith('.fits')]\n",
    "        if max_files is not None and max_files < len(all_files):\n",
    "            self.files = random.sample(all_files, max_files)  # Randomly select max_files from the list\n",
    "        else:\n",
    "            self.files = all_files\n",
    "\n",
    "    def __len__(self):\n",
    "        return len(self.files)\n",
    "    \n",
    "    def __getitem__(self, idx):\n",
    "        filepath = self.files[idx]\n",
    "        with fits.open(filepath) as hdul:\n",
    "            flux = hdul[1].data.astype(np.float32)\n",
    "            header = hdul[1].header\n",
    "            wavelength = self.calculate_wavelength(header, flux).astype(np.float32)\n",
    "            snr = self.get_snr(hdul)\n",
    "            teff = hdul[4].data['RV_TEFF'][0] if 'RV_TEFF' in hdul[4].columns.names else np.nan\n",
    "            logg = hdul[4].data['RV_LOGG'][0] if 'RV_LOGG' in hdul[4].columns.names else np.nan\n",
    "            feh = hdul[4].data['RV_FEH'][0] if 'RV_FEH' in hdul[4].columns.names else np.nan\n",
    "            ra = hdul[4].data['RA'][0]  \n",
    "            dec = hdul[4].data['DEC'][0] \n",
    "            abundances = hdul[4].data['FELEM'][0].astype(np.float32)\n",
    "            abundances = np.ascontiguousarray(abundances)\n",
    "            resolution = wavelength / (header['CDELT1'] * np.mean(wavelength))\n",
    "           \n",
    "\n",
    "\n",
    "            # Ensure the arrays are in the native byte order\n",
    "            flux = ensure_native_byteorder(flux)\n",
    "            wavelength = ensure_native_byteorder(wavelength)\n",
    "            abundances = ensure_native_byteorder(abundances)\n",
    "            self.abundances.append(abundances)\n",
    "\n",
    "            # Convert to torch tensors\n",
    "            flux = torch.from_numpy(flux)\n",
    "            wavelength = torch.from_numpy(wavelength)\n",
    "            abundances = torch.from_numpy(abundances)\n",
    "\n",
    "            return {'wavelength': wavelength,\n",
    "                    'flux': flux,\n",
    "                    'snr': snr, \n",
    "                    'teff': teff,\n",
    "                    'logg': logg, \n",
    "                    'feh': feh,\n",
    "                    'abundances': abundances,\n",
    "                   'resolution': resolution,\n",
    "                   'ra': ra,\n",
    "                   'dec': dec}\n",
    "\n",
    "         \n",
    "    def calculate_wavelength(self,header, flux):\n",
    "        \"\"\"\n",
    "        Calculates the wavelength array using the FITS header information.\n",
    "        \"\"\"\n",
    "        crval = header['CRVAL1']  # Starting log10 wavelength\n",
    "        cdelt = header['CDELT1']  # Log10 wavelength increment\n",
    "        crpix = header['CRPIX1']  # Reference pixel\n",
    "        n_pixels = len(flux)\n",
    "        index = np.arange(n_pixels)\n",
    "        return 10 ** (crval + (index - (crpix - 1)) * cdelt)\n",
    "\n",
    "    def get_snr(self, hdul):\n",
    "        try:\n",
    "            snr = hdul[4].data['SNR'][0]\n",
    "            return snr if snr > 0 else 0\n",
    "        except KeyError:\n",
    "            return 0\n"
   ]
  },
  {
   "cell_type": "code",
   "execution_count": 11,
   "id": "12b84fd5-9369-4be5-9c13-a0115dd29f86",
   "metadata": {},
   "outputs": [],
   "source": [
    "directory = '../../projects/k-pop/spectra/apogee/dr17'\n",
    "dataset = APOGEEDataset(directory, max_files=1000)\n",
    "dataloader = DataLoader(dataset, batch_size=10, shuffle=True)\n"
   ]
  },
  {
   "cell_type": "code",
   "execution_count": 12,
   "id": "bc072634-e0c0-40ee-948c-83cdcde33e6c",
   "metadata": {},
   "outputs": [],
   "source": [
    "def plot_spectrum(wavelength, flux):\n",
    "    \"\"\"\n",
    "    Plots the spectrum using wavelength and flux data.\n",
    "    Args:\n",
    "        wavelength (Tensor): Wavelength data as a PyTorch tensor.\n",
    "        flux (Tensor): Flux data as a PyTorch tensor.\n",
    "    \"\"\"\n",
    "    # Convert PyTorch tensors to numpy arrays for plotting\n",
    "    wavelength = wavelength.numpy()\n",
    "    flux = flux.numpy()\n",
    "    \n",
    "    plt.figure(figsize=(10, 6))\n",
    "    plt.plot(wavelength, flux, label='Spectrum')\n",
    "    plt.xlabel('Wavelength (Å)')\n",
    "    plt.ylabel('Flux')\n",
    "    plt.title('APOGEE Spectrum')\n",
    "    plt.legend()\n",
    "    plt.show()\n"
   ]
  },
  {
   "cell_type": "code",
   "execution_count": 13,
   "id": "50b7e8bf-67a4-4ea9-979a-b75e673484ec",
   "metadata": {},
   "outputs": [
    {
     "data": {
      "image/png": "[encoded data removed]",
      "text/plain": [
       "<Figure size 1000x600 with 1 Axes>"
      ]
     },
     "metadata": {},
     "output_type": "display_data"
    }
   ],
   "source": [
    "for data in dataloader:\n",
    "    wavelengths, fluxes = data['wavelength'], data['flux']\n",
    "    plot_spectrum(wavelengths[0], fluxes[0])  # Plot the first spectrum in the batch\n",
    "    break"
   ]
  },
  {
   "cell_type": "code",
   "execution_count": 14,
   "id": "94e10914-0b6a-4e3d-86b0-4acdd89e29dc",
   "metadata": {},
   "outputs": [],
   "source": [
    "def plot_parameter_distribution(dataloader, param_name, bins=30, title=None):\n",
    "    values_list = []  # Use a list to collect tensors\n",
    "    # Wrap the dataloader with tqdm for a progress bar\n",
    "    for data in tqdm(dataloader, desc=f\"Processing {param_name}\"):\n",
    "        vals = data[param_name]\n",
    "        \n",
    "        # Ensure numpy array is in native byte order before conversion to tensor\n",
    "        if isinstance(vals, np.ndarray) and vals.dtype.byteorder not in ('=', '|'):\n",
    "            vals = vals.byteswap().newbyteorder()\n",
    "\n",
    "        # Remove NaN values directly using PyTorch\n",
    "        mask = ~torch.isnan(vals)\n",
    "        valid_vals = vals[mask]  # Use a boolean tensor for indexing\n",
    "        values_list.append(valid_vals)  # Append valid values to the list\n",
    "\n",
    "    # Concatenate all valid values into a single tensor after the loop\n",
    "    values = torch.cat(values_list, dim=0)\n",
    "\n",
    "    plt.figure(figsize=(10, 6))\n",
    "    plt.hist(values.numpy(), bins=bins, alpha=0.75, color='blue')  # Convert to numpy for plotting\n",
    "    plt.title(title or f'Distribution of {param_name}')\n",
    "    plt.xlabel(param_name)\n",
    "    plt.ylabel('Frequency')\n",
    "    plt.grid(True)\n",
    "    plt.show()\n",
    "\n",
    "    # Print statistics if needed\n",
    "    if values.numel() > 0:  # Use numel to check for number of elements in tensor\n",
    "        print(f\"Mean {param_name}: {torch.mean(values).item():.2f}\")\n",
    "        print(f\"Median {param_name}: {torch.median(values).item():.2f}\")\n",
    "        print(f\"Standard Deviation of {param_name}: {torch.std(values).item():.2f}\")\n",
    "    else:\n",
    "        print(\"No valid values found. Check your dataset and field names.\")\n"
   ]
  },
  {
   "cell_type": "code",
   "execution_count": null,
   "id": "cea6200e-c666-4aaf-88dc-9d38a38707d0",
   "metadata": {},
   "outputs": [
    {
     "name": "stderr",
     "output_type": "stream",
     "text": [
      "Processing snr:  42%|████▏     | 42/100 [00:37<00:51,  1.12it/s]"
     ]
    }
   ],
   "source": [
    "plot_parameter_distribution(dataloader, 'snr', bins=30, title='SNR Distribution')\n",
    "plot_parameter_distribution(dataloader, 'teff', bins=30, title='Effective Temperature Distribution')\n",
    "plot_parameter_distribution(dataloader, 'logg', bins=30, title='Surface Gravity Distribution')\n",
    "plot_parameter_distribution(dataloader, 'feh', bins=30, title='Metallicity Distribution')\n"
   ]
  },
  {
   "cell_type": "code",
   "execution_count": null,
   "id": "6feb8aaf-d9c9-455e-810f-d0c78675eff6",
   "metadata": {},
   "outputs": [],
   "source": [
    "for data in dataloader:\n",
    "    abundances = data['abundances']\n",
    "    print(abundances)\n",
    "\n",
    "\n",
    "    break"
   ]
  },
  {
   "cell_type": "code",
   "execution_count": null,
   "id": "f7c43460-b92d-4d90-82c1-196215629961",
   "metadata": {},
   "outputs": [],
   "source": [
    "for batch in dataloader:\n",
    "    print(batch['wavelength'].shape, batch['flux'].shape, batch['abundances'].shape)\n",
    "    break\n"
   ]
  },
  {
   "cell_type": "code",
   "execution_count": null,
   "id": "41f73905-6164-4855-aee7-17eaed9a0dab",
   "metadata": {},
   "outputs": [],
   "source": [
    "def plot_element_distribution(dataloader, element_index, title=None):\n",
    "    element_values = []  # List to hold all the abundance values for the specified element\n",
    "    \n",
    "    # Iterate through the dataloader to extract the specified element's abundance\n",
    "    for data in tqdm(dataloader, desc=\"Extracting element data\"):\n",
    "        abundances = data['abundances']  # Assuming 'abundances' is a key in your data dictionary\n",
    "        # Append the value at the specified index for each star\n",
    "        # Use .item() to get the value as a float from the tensor\n",
    "        element_values.extend(abundances[:, element_index].detach().numpy().tolist())\n",
    "\n",
    "    # Plotting the distribution\n",
    "    plt.figure(figsize=(10, 6))\n",
    "    plt.hist(element_values, bins=30, alpha=0.75, color='blue')\n",
    "    plt.title(title or f'Distribution of Element at Index {element_index}')\n",
    "    plt.xlabel('Abundance')\n",
    "    plt.ylabel('Frequency')\n",
    "    plt.grid(True)\n",
    "    plt.show()"
   ]
  },
  {
   "cell_type": "code",
   "execution_count": null,
   "id": "3c9d6595-9911-4b38-bdca-3e8fc5252a65",
   "metadata": {},
   "outputs": [],
   "source": [
    "plot_element_distribution(dataloader, 0, title=\"Hydrogen Abundance Distribution\")\n"
   ]
  },
  {
   "cell_type": "code",
   "execution_count": null,
   "id": "d9b09edd-38ee-4523-a4b9-dc8ce4698d6f",
   "metadata": {},
   "outputs": [],
   "source": [
    "def plot_boxplot_resolution(dataloader):\n",
    "    resolutions = []\n",
    "    # Iterate through the DataLoader\n",
    "    for data in dataloader:\n",
    "        # Append resolution data from each batch\n",
    "        batch_resolutions = data['resolution'].detach().cpu().numpy()  # Assuming resolution is a tensor\n",
    "        resolutions.extend(batch_resolutions)\n",
    "    \n",
    "    # Plotting the data\n",
    "    plt.figure(figsize=(8, 6))\n",
    "    plt.boxplot(resolutions, vert=True, patch_artist=True)\n",
    "    plt.title('Box Plot of Spectral Resolutions')\n",
    "    plt.ylabel('Spectral Resolution (λ / Δλ)')\n",
    "    # plt.grid(True)\n",
    "    plt.show()\n",
    "    \n",
    "# Assuming you have a DataLoader set up as before\n",
    "plot_boxplot_resolution(dataloader)\n",
    "\n",
    "\n",
    "\n",
    "### NOT SURE WHAT TO SEE HERE "
   ]
  },
  {
   "cell_type": "code",
   "execution_count": null,
   "id": "5ef908be-c4df-4c24-a7ee-89277bcc2744",
   "metadata": {},
   "outputs": [],
   "source": [
    "import pandas as pd\n",
    "import seaborn as sns\n",
    "import matplotlib.pyplot as plt\n",
    "\n",
    "# Sample data loading and cleaning\n",
    "# Initialize lists to collect data\n",
    "data_collect = {'snr': [], 'teff': [], 'logg': [], 'feh': []}\n",
    "\n",
    "# Assuming 'dataloader' is already defined and properly set up\n",
    "for data in dataloader:\n",
    "    \n",
    " \n",
    "    data_collect['snr'].extend(data['snr'].cpu().numpy())\n",
    "    data_collect['teff'].extend(data['teff'].cpu().numpy())\n",
    "    data_collect['logg'].extend(data['logg'].cpu().numpy())\n",
    "    data_collect['feh'].extend(data['feh'].cpu().numpy())\n",
    "\n",
    "\n",
    "\n",
    "# Convert lists to DataFrame\n",
    "df = pd.DataFrame(data_collect)\n",
    "\n",
    "# print(df) \n",
    "\n",
    "# Drop any rows with NaN values for simplicity or fill them\n",
    "df.dropna(inplace=True)\n",
    "\n",
    "# Plotting\n",
    "sns.pairplot(df, diag_kind='kde', plot_kws={'alpha': 0.6})\n",
    "plt.show()\n"
   ]
  },
  {
   "cell_type": "code",
   "execution_count": null,
   "id": "3211941a-6753-4a78-9871-7f213e37e0bb",
   "metadata": {},
   "outputs": [],
   "source": [
    "from astropy.coordinates import SkyCoord\n",
    "import astropy.units as u\n",
    "\n",
    "def plot_apogee_coverage(dataloader):\n",
    "    plt.figure(figsize=(10, 5))\n",
    "    ax = plt.subplot(111, projection=\"mollweide\")\n",
    "    ax.grid(True)\n",
    "\n",
    "    for batch in dataloader:\n",
    "        ra = batch['ra'].numpy()  # Assuming RA is directly available and in degrees\n",
    "        dec = batch['dec'].numpy()  # Assuming DEC is directly available and in degrees\n",
    "\n",
    "        # Convert RA, DEC to radians for the plot\n",
    "        ra_rad = np.radians(ra - 180)  # Adjust RA for the plot\n",
    "        dec_rad = np.radians(dec)\n",
    "\n",
    "        ax.scatter(ra_rad, dec_rad, alpha=0.5, s=10)\n",
    "\n",
    "    ax.set_xlabel('Right Ascension')\n",
    "    ax.set_ylabel('Declination')\n",
    "    ax.set_title('Coverage of APOGEE Survey on the Sky')\n",
    "    plt.show()\n",
    "\n",
    "\n",
    "plot_apogee_coverage(dataloader)\n"
   ]
  },
  {
   "cell_type": "code",
   "execution_count": null,
   "id": "18f5fa16-acc4-4bd3-89b5-06aa40427bea",
   "metadata": {},
   "outputs": [],
   "source": []
  }
 ],
 "metadata": {
  "kernelspec": {
   "display_name": "Python 3 (ipykernel)",
   "language": "python",
   "name": "python3"
  },
  "language_info": {
   "codemirror_mode": {
    "name": "ipython",
    "version": 3
   },
   "file_extension": ".py",
   "mimetype": "text/x-python",
   "name": "python",
   "nbconvert_exporter": "python",
   "pygments_lexer": "ipython3",
   "version": "3.11.8"
  }
 },
 "nbformat": 4,
 "nbformat_minor": 5
}
