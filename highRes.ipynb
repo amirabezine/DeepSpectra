{
 "cells": [
  {
   "cell_type": "code",
   "execution_count": 1,
   "id": "aeb42674-ac06-4000-8ed2-ba73f9592340",
   "metadata": {},
   "outputs": [],
   "source": [
    "from module import filteredAPOGEEDataset\n",
    "import torch\n",
    "from torch.utils.data import Dataset, DataLoader\n",
    "from astropy.io import fits\n",
    "import os\n",
    "import numpy as np\n",
    "import matplotlib.pyplot as plt\n",
    "from tqdm import tqdm\n",
    "import random\n",
    "import torch\n",
    "import torch.nn as nn\n"
   ]
  },
  {
   "cell_type": "code",
   "execution_count": 2,
   "id": "1e63be0b-7adc-4f8f-a39d-4aaf7e7617db",
   "metadata": {},
   "outputs": [],
   "source": [
    "directory = '../../../projects/k-pop/spectra/apogee/dr17'\n",
    "dataset = filteredAPOGEEDataset(directory, max_files=500, lower_bound=15250, upper_bound=15750)\n",
    "dataloader = DataLoader(dataset, batch_size=10, shuffle=True)\n"
   ]
  },
  {
   "cell_type": "code",
   "execution_count": 3,
   "id": "4585dc68-a698-4d67-9e57-6cdfc2460d3e",
   "metadata": {},
   "outputs": [],
   "source": [
    "start_wavelength = 15250  \n",
    "end_wavelength = 15750   \n",
    "delta_wavelength = 0.02 \n",
    "\n",
    "wavelengths_high_res = np.arange(start_wavelength, end_wavelength, delta_wavelength)"
   ]
  },
  {
   "cell_type": "code",
   "execution_count": 8,
   "id": "6deb0c43-790c-4a34-9c86-d9435a01167d",
   "metadata": {},
   "outputs": [],
   "source": [
    "def interpolate_spectra(wavelengths, flux, new_wavelengths):\n",
    "    \"\"\"\n",
    "    Interpolates given flux data to a new set of wavelength points.\n",
    "\n",
    "    Parameters:\n",
    "    - wavelengths (np.array): Original wavelength points\n",
    "    - flux (np.array): Flux values corresponding to the original wavelengths\n",
    "    - new_wavelengths (np.array): New wavelength points for interpolation\n",
    "\n",
    "    Returns:\n",
    "    - np.array: Interpolated flux values at new wavelength points\n",
    "    \"\"\"\n",
    "    interpolated_flux = np.interp(new_wavelengths, wavelengths, flux)\n",
    "    return interpolated_flux"
   ]
  },
  {
   "cell_type": "code",
   "execution_count": 10,
   "id": "9fbb00ef-027c-47c2-9486-623d43e745ce",
   "metadata": {},
   "outputs": [],
   "source": [
    "class HighResGenerator(nn.Module):\n",
    "    def __init__(self, latent_dim, output_dim):\n",
    "        super(HighResGenerator, self).__init__()\n",
    "        # Define the network layers\n",
    "        self.model = nn.Sequential(\n",
    "            nn.Linear(latent_dim, 128),\n",
    "            nn.LeakyReLU(0.01),\n",
    "            nn.BatchNorm1d(128),\n",
    "            nn.Linear(128, 256),\n",
    "            nn.LeakyReLU(0.01),\n",
    "            nn.BatchNorm1d(256),\n",
    "            nn.Linear(256, 512),\n",
    "            nn.LeakyReLU(0.01),\n",
    "            nn.BatchNorm1d(512),\n",
    "            nn.Linear(512, 512),\n",
    "            nn.LeakyReLU(0.01),\n",
    "            nn.BatchNorm1d(512),\n",
    "            nn.Linear(512, 256),\n",
    "            nn.LeakyReLU(0.01),\n",
    "            nn.BatchNorm1d(256),\n",
    "            nn.Linear(256, 128),\n",
    "            nn.LeakyReLU(0.01),\n",
    "            nn.BatchNorm1d(128),\n",
    "            nn.Linear(128, output_dim)  # No activation in the output layer\n",
    "        )\n",
    "\n",
    "    def forward(self, z):\n",
    "        return self.model(z)\n"
   ]
  },
  {
   "cell_type": "code",
   "execution_count": 11,
   "id": "0ace4411-1986-439c-8d4e-9a26051fe9b9",
   "metadata": {},
   "outputs": [],
   "source": [
    "mse_loss = nn.MSELoss()"
   ]
  },
  {
   "cell_type": "code",
   "execution_count": 12,
   "id": "12aa68aa-7c8c-4014-9810-5b474c7d474c",
   "metadata": {},
   "outputs": [],
   "source": [
    "# Hyperparameters\n",
    "latent_dim = 50\n",
    "output_dim = len(wavelengths_high_res)  \n",
    "learning_rate_gen = 0.1\n",
    "learning_rate_latent = 0.01\n",
    "weight_decay = 1e-4\n",
    "\n",
    "# Initialize the generator\n",
    "generator = HighResGenerator(latent_dim, output_dim)\n",
    "\n",
    "# Latent vectors\n",
    "latent_vectors = torch.randn((len(dataset), latent_dim), requires_grad=True)\n",
    "\n",
    "# Optimizer setup with separate learning rates\n",
    "optimizer = torch.optim.Adam([\n",
    "    {'params': generator.parameters(), 'lr': learning_rate_gen, 'weight_decay': weight_decay},\n",
    "    {'params': latent_vectors, 'lr': learning_rate_latent}\n",
    "])\n"
   ]
  },
  {
   "cell_type": "code",
   "execution_count": 35,
   "id": "e97c508e-efbe-4d69-9783-d3b26c6435bd",
   "metadata": {},
   "outputs": [],
   "source": [
    "interpolated_fluxes = []\n",
    "for idx, data in dataset:\n",
    "    \n",
    "    interpolated_flux = interpolate_spectra(data['wavelength'], data['flux'], wavelengths_high_res)\n",
    "    interpolated_fluxes.append(interpolated_flux)\n",
    "interpolated_fluxes = np.array(interpolated_fluxes)\n"
   ]
  },
  {
   "cell_type": "code",
   "execution_count": 37,
   "id": "e44e26c8-9c75-4ebb-b082-83d275949143",
   "metadata": {},
   "outputs": [],
   "source": [
    "import matplotlib.pyplot as plt\n",
    "\n",
    "def plot_spectra(real, generated, epoch, index):\n",
    "    plt.figure(figsize=(10, 5))\n",
    "    plt.plot(real, label='Real Spectra', color='blue')\n",
    "    plt.plot(generated, label='Generated Spectra', color='red', linestyle='--')\n",
    "    plt.title(f'Comparison of Real and Generated Spectra at Epoch {epoch}')\n",
    "    plt.xlabel('Wavelength')\n",
    "    plt.ylabel('Flux')\n",
    "    plt.legend()\n",
    "    plt.show()"
   ]
  },
  {
   "cell_type": "code",
   "execution_count": null,
   "id": "70a0a63c-c2ed-43f6-be11-cef36fb81da9",
   "metadata": {},
   "outputs": [],
   "source": [
    "num_epochs = 200  # Total number of epochs\n",
    "batch_size = 10  # Batch size for training\n",
    "loss_values = []\n",
    "\n",
    "# # DataLoader setup\n",
    "# dataloader = DataLoader(dataset, batch_size=batch_size, shuffle=True)\n",
    "\n",
    "\n",
    "\n",
    "\n",
    "for epoch in range(num_epochs):\n",
    "    for flux in interpolated_fluxes:\n",
    "        optimizer.zero_grad()\n",
    "        flux = torch.tensor(flux, dtype=torch.float32)\n",
    "        output = model(flux)\n",
    "        loss = loss_func(output, flux)\n",
    "        loss.backward()\n",
    "        optimizer.step()\n",
    "    print(f'Epoch {epoch+1}, Loss: {loss.item()}')\n",
    "\n",
    "\n",
    "for epoch in range(num_epochs):\n",
    "    for batch_indices, batch in dataloader:\n",
    "        optimizer.zero_grad()\n",
    "\n",
    "       \n",
    "        real_spectra = batch['flux']  \n",
    "        mask = batch['flux_mask']\n",
    "        sigma = batch['variation']  \n",
    "        batch_indices = batch_indices  # Custom indexing support might be needed\n",
    "\n",
    "        generated_spectra = generator(latent_vectors[batch_indices])\n",
    "        \n",
    "        # Calculate the custom weighted loss\n",
    "        # loss = weighted_mse_loss(generated_spectra, real_spectra, mask, sigma)\n",
    "        \n",
    "        loss = mse_loss(generated_spectra, real_spectra)\n",
    "\n",
    "        loss.backward()\n",
    "        optimizer.step()\n",
    "        \n",
    "    # Store the loss value\n",
    "    loss_values.append(loss.item())\n",
    "    if epoch % 10 == 0: \n",
    "            plot_spectra(real_spectra[0].detach().numpy(), generated_spectra[0].detach().numpy(), epoch, 0)\n",
    "\n",
    "    \n",
    "    if epoch % 10 == 0:\n",
    "        print(f'Epoch {epoch}/{num_epochs}, Loss: {loss.item()}')"
   ]
  }
 ],
 "metadata": {
  "kernelspec": {
   "display_name": "Python 3 (ipykernel)",
   "language": "python",
   "name": "python3"
  },
  "language_info": {
   "codemirror_mode": {
    "name": "ipython",
    "version": 3
   },
   "file_extension": ".py",
   "mimetype": "text/x-python",
   "name": "python",
   "nbconvert_exporter": "python",
   "pygments_lexer": "ipython3",
   "version": "3.11.8"
  }
 },
 "nbformat": 4,
 "nbformat_minor": 5
}
