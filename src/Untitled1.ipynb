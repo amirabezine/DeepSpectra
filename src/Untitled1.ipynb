{
 "cells": [
  {
   "cell_type": "code",
   "execution_count": 2,
   "id": "8f6c4c4a-7449-4284-8f5a-a800a7bb8a69",
   "metadata": {},
   "outputs": [],
   "source": [
    "import numpy as np\n",
    "\n",
    "wavelength_binned = np.concatenate([\n",
    "    np.arange(15000, 17001, 0.3),\n",
    "    np.arange(4713, 4902.05, 0.05),\n",
    "    np.arange(7585, 7888.05, 0.05),\n",
    "    np.arange(5645, 5873.05, 0.05)\n",
    "])"
   ]
  },
  {
   "cell_type": "code",
   "execution_count": 3,
   "id": "553a857c-1924-49f0-b8c2-36d4daf977ea",
   "metadata": {},
   "outputs": [
    {
     "name": "stdout",
     "output_type": "stream",
     "text": [
      "21076\n"
     ]
    }
   ],
   "source": [
    "print(len(wavelength_binned))"
   ]
  },
  {
   "cell_type": "code",
   "execution_count": null,
   "id": "fb531401-21f8-4407-8690-7352ae947641",
   "metadata": {},
   "outputs": [],
   "source": []
  }
 ],
 "metadata": {
  "kernelspec": {
   "display_name": "Python 3 (ipykernel)",
   "language": "python",
   "name": "python3"
  },
  "language_info": {
   "codemirror_mode": {
    "name": "ipython",
    "version": 3
   },
   "file_extension": ".py",
   "mimetype": "text/x-python",
   "name": "python",
   "nbconvert_exporter": "python",
   "pygments_lexer": "ipython3",
   "version": "3.11.8"
  }
 },
 "nbformat": 4,
 "nbformat_minor": 5
}
