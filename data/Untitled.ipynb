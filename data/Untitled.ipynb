{
 "cells": [
  {
   "cell_type": "code",
   "execution_count": 1,
   "id": "a4125fda-6b5c-42a8-b409-410946e5a12c",
   "metadata": {},
   "outputs": [],
   "source": [
    "import h5py\n",
    "import numpy as np\n",
    "from astropy.io import fits\n",
    "import os\n",
    "from tqdm import tqdm\n",
    "import torch\n",
    "import argparse\n",
    "\n"
   ]
  },
  {
   "cell_type": "code",
   "execution_count": 14,
   "id": "0180554b-f942-4603-a97d-87552955470a",
   "metadata": {},
   "outputs": [],
   "source": [
    "apogee_dir=\"./test2/apogee\"\n",
    "galah_dir=\"./test2/galah\"\n",
    "combined_file=\"./test/combined.fits\"\n",
    "hdf5_path=\"./test2/data.hdf5\"\n",
    "latent_size=20\n",
    "catalog_path='/arc/projects/k-pop/catalogues/galah-dr3v2.fits'"
   ]
  },
  {
   "cell_type": "code",
   "execution_count": 2,
   "id": "d26f4679-0116-4c0b-9b88-8dd4d9617b41",
   "metadata": {},
   "outputs": [],
   "source": [
    "\n",
    "def load_galah_catalog(catalog_path):\n",
    "    with fits.open(catalog_path) as hdul:\n",
    "        data = hdul[1].data\n",
    "    return {row['sobject_id']: row for row in data}\n",
    "  "
   ]
  },
  {
   "cell_type": "code",
   "execution_count": 17,
   "id": "48115b25-8945-46e7-a1f9-b80d5c9d629f",
   "metadata": {},
   "outputs": [],
   "source": [
    "galah_catalog =  load_galah_catalog(catalog_path)\n"
   ]
  },
  {
   "cell_type": "code",
   "execution_count": 19,
   "id": "04491de2-f083-42c4-9968-65d016e993cb",
   "metadata": {},
   "outputs": [
    {
     "name": "stdout",
     "output_type": "stream",
     "text": [
      "131116000501002: ('03325271-6840304', 131116000501002, 4667368899326729856, 4667368899326729856, 'galah_main', 138, 0, '10k_2', 'lbol', 0, 4553.3545, 137.06088556228917, 4138.0, 0.048, 'sfd', 4.7149534, 0.20121636742743593, -0.33501863, 0.12021913955493135, 0, -0.109347336, 0.94853675, 9.345594, 2.5080910007092827, 0.5873856, 0.35136763119226394, 0.07919326531297675, 405.0, 0, 0.73446965, 0.80794984, -0.18375580310821538, 0.12854836388714738, 1, 1, nan, nan, -9223372036854775808, 32, 1.2146472740173344, 0.2138376266813869, 1, 1, 0.14526838302612344, 0.11489051187565578, 1, 0, -0.08849821090698207, 0.19155067846881743, 1, 0, 0.46733125686645494, 0.11861814440786478, 1, 0, nan, nan, 1, 32, 0.4403888511657712, 0.1647182437596357, 1, 0, 0.40222770690917997, 0.12761818533447994, 1, 0, 0.427332248687744, 0.10620845786539221, 1, 0, nan, nan, 0, 0, 0.6909773123929537, 0.20731252088935498, 18, 0, nan, nan, -9223372036854775808, 32, 0.8553736305236814, 0.3077087728097469, 2, 0, 0.24255144119262706, 0.15220728948870532, 1, 0, nan, nan, 0, 0, -0.1137567329406739, 0.18646203092799396, 1, 0, 0.6453323573865888, 0.09574441488706045, 6, 0, nan, nan, -9223372036854775808, 32, 0.1880807304382328, 0.13495869404319633, 2, 0, nan, nan, -9223372036854775808, 32, nan, nan, -9223372036854775808, 32, 0.5278627395629885, 0.153388484303307, 1, 1, nan, nan, -9223372036854775808, 32, nan, nan, 16, 32, nan, nan, 2, 32, nan, nan, 2, 32, 0.16386278152465827, 0.17453543596116106, 1, 0, nan, nan, 4, 32, nan, nan, -9223372036854775808, 32, nan, nan, -9223372036854775808, 32, nan, nan, 2, 32, nan, nan, 1, 32, 53.221131958529945, -68.67480027451936, 6.944818500235433, 0.014118345603723981, 143.394475173609, 143.102579738791, 143.687542609767, 509.572275021421, 36.20399856567383, 0.18299999833106995, 35.907078, 1.7959878, 0, 0.0465022, 6.31334872044, 17.3632540391, 31.2749203375, 29.0651741585, 0, 13.705686, 11.396, 0.023, 10.728, 0.022, 10.607, 0.021, 'AAA', 10.558, 0.019, 'AAAU', 0.08261971284484879, 0.02668523507339685, 2.1981099, 1.0987638037798317)\n",
      "131116000501003: ('03345385-6836362', 131116000501003, 4667362989451832448, 4667362989451832448, 'galah_main', 138, 0, '10k_0', 'lbol', 256, 3622.7446, 104.98349008795871, nan, nan, '', 4.6915054, 0.19856208380453938, nan, nan, 17, 0.34029227, 0.79963917, 14.891972, 2.424654620895376, 2.1496592, nan, nan, nan, 32, 0.44742674, 0.1310177, nan, nan, -9223372036854775808, 32, nan, nan, -9223372036854775808, 32, nan, nan, -9223372036854775808, 32, nan, nan, -9223372036854775808, 32, nan, nan, -9223372036854775808, 32, nan, nan, -9223372036854775808, 32, nan, nan, -9223372036854775808, 32, nan, nan, -9223372036854775808, 32, nan, nan, -9223372036854775808, 32, nan, nan, -9223372036854775808, 32, nan, nan, 0, 0, nan, nan, -9223372036854775808, 32, nan, nan, -9223372036854775808, 32, nan, nan, -9223372036854775808, 32, nan, nan, -9223372036854775808, 32, nan, nan, 0, 0, nan, nan, -9223372036854775808, 32, nan, nan, -9223372036854775808, 32, nan, nan, -9223372036854775808, 32, nan, nan, -9223372036854775808, 32, nan, nan, -9223372036854775808, 32, nan, nan, -9223372036854775808, 32, nan, nan, -9223372036854775808, 32, nan, nan, -9223372036854775808, 32, nan, nan, -9223372036854775808, 32, nan, nan, -9223372036854775808, 32, nan, nan, -9223372036854775808, 32, nan, nan, -9223372036854775808, 32, nan, nan, -9223372036854775808, 32, nan, nan, -9223372036854775808, 32, nan, nan, -9223372036854775808, 32, nan, nan, -9223372036854775808, 32, nan, nan, -9223372036854775808, 32, 53.72602065860112, -68.61105093014966, 10.360334657362394, 0.016036012367258233, 96.2529697018425, 96.1035151103683, 96.4028815885316, 508.606084882748, 55.373325571289065, 0.7317890322419305, nan, nan, 0, 0.0, 6.4556164766, 18.4624855256, 35.2540472447, 32.247355967, 0, 13.426032, 11.06, 0.024, 10.425, 0.023, 10.255, 0.025, 'AAA', 10.121, 0.021, 'AAAU', 0.0, 0.0, 2.669922, 1.184694482545447)\n",
      "131116000501004: ('03422255-6841522', 131116000501004, 4667324643983679744, 4667324643983679744, 'galah_main', 138, 0, '10k_26', 'lbol', 0, 4852.4756, 172.75096900138723, 4925.0, 0.037, 'sfd', 2.4668846, 0.22319904274460833, -1.1701574, 0.18190171456363485, 0, -1.1479353, 1.2029628, 8.185776, 2.876024403414056, 0.27335835, 0.27304791329884204, 0.0853664789169457, 7.0, 0, 0.5224489, 0.32454506, 1.0704490661621093, 0.13536586392819236, 1, 1, nan, nan, 1, 32, 0.7590327072143559, 0.2293689008811489, 1, 1, -0.09108978271484336, 0.12906693222360996, 1, 0, 0.10771360397338903, 0.22164796605124426, 1, 0, 0.5268400573730467, 0.1278229244151585, 1, 1, 0.3356387901306155, 0.12488414357858917, 1, 0, 0.034968070983886435, 0.18122666630749934, 1, 0, 0.2607658576965335, 0.13768748933157277, 1, 0, 0.2452782058715819, 0.11662904839016222, 1, 0, nan, nan, 0, 0, nan, nan, -9223372036854775808, 32, nan, nan, -9223372036854775808, 32, 0.7469940280914305, 0.3376534708082479, 2, 1, 0.31753122329711925, 0.16797777028262084, 1, 1, nan, nan, 0, 0, -0.430754737854004, 0.21247207320030573, 1, 0, 0.7501663589477543, 0.24506798917739497, 8, 1, -0.006909828186035583, 0.2047127644658996, 2, 0, -0.40098219871520957, 0.1479941547827939, 2, 1, nan, nan, -9223372036854775808, 32, nan, nan, -9223372036854775808, 32, nan, nan, 1, 32, nan, nan, 2, 32, nan, nan, -9223372036854775808, 32, nan, nan, 2, 32, nan, nan, -9223372036854775808, 32, -0.03373805999755852, 0.1924346219727886, 1, 0, 1.0962916564941407, 0.1456543666193846, 4, 1, 0.9110014295578002, 0.19326104140725978, 1, 1, 1.3957192659378053, 0.12388273144766232, 2, 1, 1.0390346908569337, 0.1667520813200468, 2, 1, 0.8312043625116349, 0.14460609718035686, 1, 1, 55.5939792412479, -68.69793128381444, 0.26650270452443187, 0.01189447511321563, 3359.01711102619, 3230.06000247868, 3498.38882540794, 506.137800107038, 95.87799835205078, 0.1509999930858612, nan, nan, 0, 0.0387456, 6.73577914541, 14.2009174993, 24.7487199023, 19.9223602593, 0, 13.730144, 11.981, 0.023, 11.468, 0.024, 11.374, 0.019, 'AAA', 11.379, 0.021, 'AABU', 0.008262378204346107, 0.029275421861509228, 1.9896321, 0.9910400074815263)\n",
      "131116000501005: ('03373408-6841062', 131116000501005, 4667335913977929728, 4667335913977929728, 'galah_main', 138, 0, '10k_33', 'lbol', 1, 5588.5005, 104.29455501889545, 5504.0, 0.037, 'sfd', 3.9993572, 0.18612670726590325, 0.052394867, 0.09937209372391331, 0, 0.05899211, 1.1119831, 12.291694, 2.3744396385168756, 0.443703, -0.015429693609670742, 0.05371322433644004, 159.0, 0, 0.6112031, 0.87341, 0.5345733880996704, 0.11160424502347113, 1, 1, -0.012350273132323508, 0.15910315641757974, 1, 1, -0.0191645812988277, 0.17742363564773667, 1, 0, 0.04352325439453164, 0.0846132911330551, 1, 0, 0.0860876083374027, 0.13060746990334504, 1, 0, 0.2447460556030272, 0.09702860618439443, 1, 0, -0.06691286087036108, 0.08688879771527325, 1, 0, -0.009887046813965128, 0.12803156926725534, 1, 0, 0.05680830001831083, 0.10421269598967589, 1, 0, 0.022937622070312358, 0.08269513660185172, 1, 0, nan, nan, 0, 0, -0.14315939605676797, 0.15450547508039372, 18, 0, 0.10152044296264684, 0.16909238696098328, 2, 0, nan, nan, -9223372036854775808, 32, 0.20608627319335948, 0.1170130113065205, 1, 0, nan, nan, 0, 0, 0.10330860137939446, 0.13191300373199452, 1, 0, 0.1970347785949711, 0.19963276123767998, 8, 1, -0.1943988609313969, 0.15145769388740715, 2, 0, 0.04464341029936219, 0.08590529130177613, 3, 0, -0.09222532367142064, 0.15929123499034192, 3, 0, nan, nan, -9223372036854775808, 32, nan, nan, 1, 32, -0.017366256713867045, 0.2637916188876764, 2, 0, nan, nan, 16, 32, nan, nan, 2, 32, nan, nan, 2, 32, -0.05982582092285149, 0.13471361663479298, 1, 0, nan, nan, 4, 32, nan, nan, 1, 32, nan, nan, 2, 32, nan, nan, 2, 32, nan, nan, 1, 32, 54.392072328589165, -68.68500209686545, 1.2146076768453273, 0.018661324179761803, 804.187683047385, 792.207993641738, 816.528454022354, 508.102011350455, 7.130000114440918, 0.12600000202655792, nan, nan, 0, 0.0, 16.0023120406, 26.1767683392, 39.7826258548, 27.7541624452, 0, 13.4390955, 12.135, 0.024, 11.76, 0.022, 11.71, 0.023, 'AAA', 11.73, 0.021, 'AABU', 0.0, 0.027919879851504546, 1.5770009, 1.62980943619104)\n",
      "131116000501006: ('03430488-6843208', 131116000501006, 4667323681911007232, 4667323681911007232, 'galah_main', 138, 0, '10k_41', 'lbol', 1, 5709.503, 109.2033998665521, 5725.0, 0.04, 'sfd', 4.1819053, 0.18470374660212685, -0.013732433, 0.11137627470861318, 0, -0.012599111, 1.1385069, 12.9611435, 2.481610418094461, 0.36644137, 0.08102261072159844, 0.0803723809132596, 149.0, 0, 0.58534443, 1.0214833, 1.0378443717956543, 0.11814705893645124, 1, 0, 0.12284688949585032, 0.16753269724043543, 1, 1, -0.030803699493407777, 0.19110481006868496, 1, 0, -0.06756025314331016, 0.09548310800225006, 1, 0, 0.06459465026855504, 0.15190491917809654, 1, 0, -0.08054510116577163, 0.10514155635802754, 1, 0, -0.14394018173217749, 0.09637794828824486, 1, 0, 0.3196479606628415, 0.1414634723199241, 1, 0, 0.11632329940795927, 0.11297032294284093, 1, 0, 0.0735886955261229, 0.09136811760686372, 1, 0, nan, nan, 0, 0, 0.018990011468218573, 0.17378060745674445, 18, 0, nan, nan, -9223372036854775808, 32, nan, nan, -9223372036854775808, 32, 0.04184782028198253, 0.12992498622992935, 1, 0, nan, nan, 0, 0, 0.012897415161132741, 0.15131884433161769, 1, 0, 0.3876032257080082, 0.21216250688135174, 8, 1, 0.005661029815673402, 0.16539034836224079, 2, 0, -0.12656408309936484, 0.11636832567234576, 2, 0, -0.18101013170767846, 0.17897387524707473, 3, 0, nan, nan, -9223372036854775808, 32, nan, nan, 1, 32, 0.11839357376098647, 0.2996743180587472, 2, 0, nan, nan, -9223372036854775808, 32, nan, nan, 2, 32, nan, nan, -9223372036854775808, 32, 0.022581653594970774, 0.14930133878190555, 1, 0, nan, nan, 4, 32, nan, nan, 1, 32, nan, nan, 2, 32, nan, nan, 2, 32, nan, nan, 1, 32, 55.77049402234547, -68.72245271415676, 2.3610539598278524, 0.01958931994020445, 418.433567707082, 415.005773705545, 421.917428971084, 505.910006831732, 24.81599998474121, 0.16300000250339508, 28.70949, 1.6540529, 0, 0.0, 14.3958322384, 22.5936752799, 36.087040824, 26.4494696616, 0, 12.554296, 11.248, 0.024, 10.883, 0.022, 10.822, 0.021, 'AAA', 10.827, 0.021, 'AAAU', 0.0, 0.027919879851504546, 1.5089293, 1.4031795399212366)\n"
     ]
    }
   ],
   "source": [
    "first_five_entries = {k: galah_catalog[k] for k in list(galah_catalog)[:5]}\n",
    "for id, entry in first_five_entries.items():\n",
    "    print(f\"{id}: {entry}\")"
   ]
  },
  {
   "cell_type": "code",
   "execution_count": 33,
   "id": "943e0ced-bece-4725-888b-837fa572f31a",
   "metadata": {},
   "outputs": [
    {
     "name": "stdout",
     "output_type": "stream",
     "text": [
      "sobject_id 131118002901377 not found in the catalog.\n"
     ]
    }
   ],
   "source": [
    "specific_id = \"131118002901377\"\n",
    "if specific_id in galah_catalog:\n",
    "    print(f\"Data for sobject_id {specific_id}:\")\n",
    "    print(galah_catalog[specific_id])\n",
    "else:\n",
    "    print(f\"sobject_id {specific_id} not found in the catalog.\")"
   ]
  },
  {
   "cell_type": "code",
   "execution_count": 3,
   "id": "883fa710-b095-45f1-afbe-4c14c299a525",
   "metadata": {},
   "outputs": [],
   "source": [
    "  \n",
    "def ensure_native_byteorder(array):\n",
    "    if array.dtype.byteorder not in ('=', '|'):\n",
    "        return array.byteswap().newbyteorder()\n",
    "    return array\n"
   ]
  },
  {
   "cell_type": "code",
   "execution_count": 4,
   "id": "ec45d897-28f1-4bed-a813-8d7dea8fcb82",
   "metadata": {},
   "outputs": [],
   "source": [
    "\n",
    "def calculate_wavelength_apogee(header, flux):\n",
    "    crval = header['CRVAL1']\n",
    "    cdelt = header['CDELT1']\n",
    "    crpix = header['CRPIX1']\n",
    "    n_pixels = len(flux)\n",
    "    index = np.arange(n_pixels)\n",
    "    return 10 ** (crval + (index - (crpix - 1)) * cdelt)\n",
    "\n",
    "def calculate_wavelength_galah(header, flux):\n",
    "    w_start = header['CRVAL1']  # Starting wavelength\n",
    "    w_delta = header['CDELT1']  # Wavelength increment per pixel\n",
    "    n_pixels = len(flux)\n",
    "    wavelength = w_start + w_delta * np.arange(n_pixels) \n",
    "    return wavelength\n"
   ]
  },
  {
   "cell_type": "code",
   "execution_count": 5,
   "id": "d9e2656d-a218-4d28-b37e-40ec1c16b1af",
   "metadata": {},
   "outputs": [],
   "source": [
    "\n",
    "def create_mask_apogee(flux, sigma):\n",
    "    mask = np.where((flux == 0) | (sigma > 0.02), 0, 1)\n",
    "    return mask\n",
    "\n",
    "def create_mask_galah(flux, sigma):\n",
    "    mask = np.where((flux == 0), 0, 1)\n",
    "    return mask\n",
    "\n"
   ]
  },
  {
   "cell_type": "code",
   "execution_count": 6,
   "id": "2a927bd7-5ab3-435a-a979-a118f4942f4d",
   "metadata": {},
   "outputs": [],
   "source": [
    "\n",
    "def extract_apogee_id(filename):\n",
    "    prefix = 'aspcapStar-dr17-'\n",
    "    suffix = '.fits'\n",
    "    if filename.startswith(prefix) and filename.endswith(suffix):\n",
    "        return filename[len(prefix):-len(suffix)]\n",
    "    return None\n",
    "\n"
   ]
  },
  {
   "cell_type": "code",
   "execution_count": 7,
   "id": "9f5f701c-32c7-445b-a3e9-724177fb0ba6",
   "metadata": {},
   "outputs": [],
   "source": [
    "\n",
    "def extract_apogee_metadata(file_path):\n",
    "    with fits.open(file_path) as hdul:\n",
    "        header = hdul[4].header  \n",
    "        return {\n",
    "            'temp': header.get('TEFF', None),\n",
    "            'temp_err': header.get('TEFF_ERR', None),\n",
    "            'logg': header.get('LOGG', None),\n",
    "            'logg_err': header.get('LOGG_ERR', None),\n",
    "            'fe_h': header.get('FE_H', None),\n",
    "            'fe_h_err': header.get('FE_H_ERR', None),\n",
    "            'rv': header.get('VHELIO_AVG', None),\n",
    "            'rv_err': header.get('VERR', None),\n",
    "            'ra': header.get('RA', None),\n",
    "            'dec' : header.get('DEC', None)\n",
    "        }\n"
   ]
  },
  {
   "cell_type": "code",
   "execution_count": 30,
   "id": "bce8060b-ebb5-4efe-8409-c5651c836972",
   "metadata": {},
   "outputs": [],
   "source": [
    "\n",
    "def extract_galah_metadata(galah_catalog, sobject_id):\n",
    "    if sobject_id in galah_catalog:\n",
    "        row = galah_catalog[sobject_id]\n",
    "        return {\n",
    "            'temp': row['teff'],\n",
    "            'temp_err': row['e_teff'],\n",
    "            'logg': row['logg'],\n",
    "            'logg_err': row['e_logg'],\n",
    "            'fe_h': row['fe_h'],\n",
    "            'fe_h_err': row['e_fe_h'],\n",
    "            'rv': row['rv_galah'],\n",
    "            'rv_err': row['e_rv_galah'],\n",
    "            'ra': row['ra_dr2'],\n",
    "            'dec': row ['dec_dr2']\n",
    "        }\n",
    "    return None\n",
    " "
   ]
  },
  {
   "cell_type": "code",
   "execution_count": 31,
   "id": "b8334717-c3ae-445d-8cf1-bc370c452174",
   "metadata": {},
   "outputs": [
    {
     "name": "stdout",
     "output_type": "stream",
     "text": [
      "{'temp': 5039.3027, 'temp_err': 97.47001250027941, 'logg': 2.9666305, 'logg_err': 0.1993773010034177, 'fe_h': -1.1405907, 'fe_h_err': 0.08656646779203103, 'rv': 317.6990051269531, 'rv_err': 0.12999999523162842, 'ra': 92.35567615458831, 'dec': -59.65332432159097}\n"
     ]
    }
   ],
   "source": [
    "galah_meta = extract_galah_metadata(galah_catalog, 131118003401123)\n",
    "print(galah_meta)"
   ]
  },
  {
   "cell_type": "code",
   "execution_count": 9,
   "id": "6d26ae82-338e-4d31-b3fb-6445953555fa",
   "metadata": {},
   "outputs": [],
   "source": [
    "   \n",
    "def save_to_hdf5(flux, wavelength, sigma, flux_mask, unique_id, instrument_type, hdf5_file, index, latent_size, combined_meta):\n",
    "    latent_code = torch.normal(0, 1, size=(latent_size,), dtype=torch.float32).numpy()\n",
    "    grp = hdf5_file.create_group(unique_id)\n",
    "    grp.create_dataset('flux', data=flux, compression=\"gzip\", compression_opts=9)\n",
    "    grp.create_dataset('wavelength', data=wavelength, compression=\"gzip\", compression_opts=9)\n",
    "    grp.create_dataset('sigma', data=sigma, compression=\"gzip\", compression_opts=9)\n",
    "    grp.create_dataset('flux_mask', data=flux_mask)\n",
    "    grp.create_dataset('latent_code', data=latent_code)\n",
    "    grp.create_dataset('instrument_type', data=np.string_(instrument_type))\n",
    "    \n",
    "    # Handle metadata\n",
    "    for key, value in combined_meta.items():\n",
    "        try:\n",
    "            if value is None:\n",
    "                # Assuming all None values can be stored as np.nan in the dataset\n",
    "                grp.create_dataset(key, data=np.array([np.nan], dtype=np.float32))\n",
    "            elif isinstance(value, list):\n",
    "                # Convert None to np.nan for float compatibility in HDF5\n",
    "                clean_value = [np.nan if v is None else v for v in value]\n",
    "                grp.create_dataset(key, data=np.array(clean_value, dtype=np.float32))\n",
    "            elif isinstance(value, (int, float)):\n",
    "                # Single numeric values\n",
    "                grp.create_dataset(key, data=np.float32(value))\n",
    "            elif isinstance(value, str):\n",
    "                # Single string values\n",
    "                grp.create_dataset(key, data=np.string_(value))\n",
    "            elif isinstance(value, np.ndarray):\n",
    "                # Directly handle numpy arrays (for instruments)\n",
    "                grp.create_dataset(key, data=value, dtype=value.dtype)\n",
    "            else:\n",
    "                print(f\"Unsupported data type for key {key}: {type(value)}\")\n",
    "        except Exception as e:\n",
    "            print(f\"Error while saving {key}: {str(e)}\")\n",
    "\n",
    "\n"
   ]
  },
  {
   "cell_type": "code",
   "execution_count": 10,
   "id": "7b8cb0a8-5a33-4dec-a522-986557afb649",
   "metadata": {},
   "outputs": [],
   "source": [
    "\n",
    "def load_apogee_spectrum(file_path):\n",
    "    with fits.open(file_path) as hdul:\n",
    "        flux = hdul[1].data.astype(np.float32)\n",
    "        header = hdul[1].header\n",
    "        wavelength = calculate_wavelength_apogee(header, flux).astype(np.float32)\n",
    "        sigma = hdul[2].data.astype(np.float32)\n",
    "        instruments = np.array([0, 1, 2], dtype=np.int32)\n",
    "    \n",
    "    flux = ensure_native_byteorder(flux)\n",
    "    sigma = ensure_native_byteorder(sigma)\n",
    "    wavelength = ensure_native_byteorder(wavelength)\n",
    "    flux_mask = create_mask_apogee(flux, sigma).astype(np.float32)\n",
    "\n",
    "    return flux, wavelength, sigma, flux_mask, instruments\n",
    "\n",
    "\n"
   ]
  },
  {
   "cell_type": "code",
   "execution_count": 11,
   "id": "ca79bece-ef05-44c1-a92a-dc2e15a3a1f8",
   "metadata": {},
   "outputs": [],
   "source": [
    "\n",
    "def load_galah_spectrum(galah_dir, galah_id):\n",
    "    fluxes = []\n",
    "    wavelengths = []\n",
    "    sigmas = []\n",
    "    flux_masks = []\n",
    "    instruments = []\n",
    "    \n",
    "    \n",
    "    for i in range (1,5):\n",
    "        file_path = os.path.join(galah_dir, f\"{galah_id}{i}.fits\")\n",
    "        \n",
    "\n",
    "        if not os.path.exists(file_path):\n",
    "            print(f\"Warning: File not found for {file_path}\")\n",
    "            continue\n",
    "\n",
    "        instruments = np.append(instruments , i+2)\n",
    "        with fits.open(file_path) as hdul:\n",
    "            flux = hdul[0].data.astype(np.float32)\n",
    "            header = hdul[0].header\n",
    "            wavelength = calculate_wavelength_galah(header, flux).astype(np.float32)\n",
    "            sigma = hdul[1].data.astype(np.float32)\n",
    "        \n",
    "        flux = ensure_native_byteorder(flux)\n",
    "        sigma = ensure_native_byteorder(sigma)\n",
    "        wavelength = ensure_native_byteorder(wavelength)\n",
    "        flux_mask = create_mask_galah(flux, sigma).astype(np.float32)\n",
    "        \n",
    "        fluxes.append(flux)\n",
    "        wavelengths.append(wavelength)\n",
    "        sigmas.append(sigma)\n",
    "        flux_masks.append(flux_mask)\n",
    "\n",
    "    if not fluxes:\n",
    "        raise ValueError(f\"No valid GALAH files found for {galah_id}\")\n",
    "\n",
    "    return (np.concatenate(fluxes), \n",
    "            np.concatenate(wavelengths), \n",
    "            np.concatenate(sigmas), \n",
    "            np.concatenate(flux_masks), \n",
    "            instruments)\n",
    "\n",
    "\n"
   ]
  },
  {
   "cell_type": "code",
   "execution_count": null,
   "id": "74d48eee-1d8a-4c3d-91f1-d5a6d8f3bc2a",
   "metadata": {},
   "outputs": [],
   "source": [
    "def extract_apogee_id(filename):\n",
    "    prefix = 'aspcapStar-dr17-'\n",
    "    suffix = '.fits'\n",
    "    if filename.startswith(prefix) and filename.endswith(suffix):\n",
    "        return filename[len(prefix):-len(suffix)]\n",
    "    return None"
   ]
  },
  {
   "cell_type": "code",
   "execution_count": null,
   "id": "d1ae52d4-48c4-4bcf-9f29-d807962f64b3",
   "metadata": {},
   "outputs": [],
   "source": [
    "\n",
    "def process_spectra(apogee_dir, galah_dir, apogee_ids, galah_ids, hdf5_file, latent_size, catalog_path):\n",
    "    index = 0\n",
    "    processed_apogee = set()\n",
    "    processed_galah = set()\n",
    "    galah_catalog = load_galah_catalog(catalog_path)\n",
    "    for i, (apogee_id, galah_id) in enumerate(tqdm(zip(apogee_ids, galah_ids), total=len(apogee_ids), desc=\"Converting spectra to HDF5\")):\n",
    "        apogee_file = os.path.join(apogee_dir, f\"aspcapStar-dr17-{apogee_id}.fits\")\n",
    "        apogee_exists = os.path.exists(apogee_file)\n",
    "\n",
    "        # try:\n",
    "        #     if apogee_exists:\n",
    "        #         apogee_data = load_apogee_spectrum(apogee_file)\n",
    "        #         apogee_meta = extract_apogee_metadata(apogee_file)\n",
    "        #     else:\n",
    "        #         apogee_data = None\n",
    "        #         apogee_meta = None\n",
    "\n",
    "        #     print(\"looking for galah id: \" , galah_id)\n",
    "        #     galah_data = load_galah_spectrum(galah_dir, galah_id)\n",
    "        #     galah_meta = extract_galah_metadata(galah_catalog, galah_id)\n",
    "\n",
    "        #     if galah_meta is None:\n",
    "        #         print(f\"Warning: No GALAH metadata found for sobject_id {galah_id}\")\n",
    "        #         continue\n",
    "\n",
    "        #     if apogee_exists:\n",
    "        #         # Combine spectral data\n",
    "        #         flux = np.concatenate((apogee_data[0], galah_data[0]))\n",
    "        #         wavelength = np.concatenate((apogee_data[1], galah_data[1]))\n",
    "        #         sigma = np.concatenate((apogee_data[2], galah_data[2]))\n",
    "        #         flux_mask = np.concatenate((apogee_data[3], galah_data[3]))\n",
    "        #         instruments = np.concatenate((apogee_data[4], galah_data[4]))  \n",
    "        #         instrument_type = \"combined\"\n",
    "        #     else:\n",
    "        #         flux, wavelength, sigma, flux_mask, instruments = galah_data\n",
    "        #         instrument_type = \"galah\"\n",
    "\n",
    "        #     combined_meta = {\n",
    "        #         'temp': [apogee_meta['temp'] if apogee_meta else None, galah_meta['temp']],\n",
    "        #         'temp_err': [apogee_meta['temp_err'] if apogee_meta else None, galah_meta['temp_err']],\n",
    "        #         'logg': [apogee_meta['logg'] if apogee_meta else None, galah_meta['logg']],\n",
    "        #         'logg_err': [apogee_meta['logg_err'] if apogee_meta else None, galah_meta['logg_err']],\n",
    "        #         'rv': [apogee_meta['rv'] if apogee_meta else None, galah_meta['rv']],\n",
    "        #         'rv_err': [apogee_meta['rv_err'] if apogee_meta else None, galah_meta['rv_err']],\n",
    "        #         'ra': [apogee_meta['ra'] if apogee_meta else None, galah_meta['ra']],\n",
    "        #         'dec': [apogee_meta['dec'] if apogee_meta else None, galah_meta['dec']],\n",
    "        #         'instruments': instruments,\n",
    "        #         'obj_class' : \"Star\"\n",
    "        #     }\n",
    "\n",
    "\n",
    "        #     unique_id = f\"{instrument_type}_{index}\"\n",
    "        #     index += 1\n",
    "\n",
    "            if apogee_exists:\n",
    "                processed_apogee.add(apogee_id)\n",
    "            processed_galah.add(galah_id)\n",
    "\n",
    "        except ValueError as e:\n",
    "            print(f\"Skipping {galah_id}: {str(e)}\")\n",
    "            continue\n",
    "\n",
    "       \n",
    "\n",
    "        # save_to_hdf5(flux, wavelength, sigma, flux_mask, unique_id, instrument_type, hdf5_file, index, latent_size, combined_meta)\n",
    "\n",
    "        \n",
    "\n",
    "    # Process remaining APOGEE files\n",
    "    all_apogee_files = {extract_apogee_id(file) for file in os.listdir(apogee_dir) if file.endswith('.fits')}\n",
    "    remaining_apogee = all_apogee_files - processed_apogee\n",
    "    print('remaining_apogee = ' , remaining_apogee)\n",
    "    # for apogee_id in remaining_apogee:\n",
    "    #     apogee_file = os.path.join(apogee_dir, f\"aspcapStar-dr17-{apogee_id}.fits\")\n",
    "    #     print(\"apogee file \" , apogee_file)\n",
    "    #     flux, wavelength, sigma, flux_mask, instruments = load_apogee_spectrum(apogee_file)\n",
    "    #     unique_id = f\"apogee_{index}\"\n",
    "    #     instrument_type = \"apogee\"\n",
    "    #     index += 1\n",
    "\n",
    "    #     apogee_meta = extract_apogee_metadata(apogee_file)\n",
    "    #     combined_meta = {\n",
    "            \n",
    "    #         'temp': [apogee_meta['temp'], None],\n",
    "    #         'temp_err': [apogee_meta['temp_err'], None],\n",
    "    #         'logg': [apogee_meta['logg'], None],\n",
    "    #         'logg_err': [apogee_meta['logg_err'], None],\n",
    "    #         'fe_h': [apogee_meta['fe_h'], None],\n",
    "    #         'fe_h_err': [apogee_meta['fe_h_err'], None],\n",
    "    #         'rv': [apogee_meta['rv'], None],\n",
    "    #         'rv_err': [apogee_meta['rv_err'], None],\n",
    "    #         'alpha_m': apogee_meta['alpha_m'],\n",
    "    #         'alpha_m_err': apogee_meta['alpha_m_err'],\n",
    "    #         'ra': apogee_meta['ra'],\n",
    "    #         'dec': apogee_meta['dec'],\n",
    "    #         'instruments': instruments,\n",
    "    #         'obj_class' : \"Star\"\n",
    "            \n",
    "    #     }\n",
    "\n",
    "\n",
    "        # save_to_hdf5(flux, wavelength, sigma, flux_mask,  unique_id, instrument_type, hdf5_file, index, latent_size, combined_meta)\n",
    "\n",
    "    # Process remaining GALAH files\n",
    "    all_galah_files = {int(file[:15]) for file in os.listdir(galah_dir) if file.endswith('.fits')}\n",
    "    remaining_galah = all_galah_files - processed_galah\n",
    "    # for galah_id in remaining_galah:\n",
    "    #     try:\n",
    "    #         # print(\"looking for galah id remaining: \" , galah_id)\n",
    "    #         flux, wavelength, sigma, flux_mask, instruments = load_galah_spectrum(galah_dir, galah_id)\n",
    "    #         unique_id = f\"galah_{index}\"\n",
    "    #         instrument_type = \"galah\"\n",
    "    #         index += 1\n",
    "\n",
    "    #         galah_meta = extract_galah_metadata(galah_catalog, galah_id)\n",
    "    #         if galah_meta is None:\n",
    "    #             print(f\"Warning: No GALAH metadata found for sobject_id {galah_id}\")\n",
    "    #             continue\n",
    "\n",
    "    #         combined_meta = {\n",
    "    #             'temp': [None, galah_meta['temp']],\n",
    "    #             'temp_err': [None, galah_meta['temp_err']],\n",
    "    #             'logg': [None, galah_meta['logg']],\n",
    "    #             'logg_err': [None, galah_meta['logg_err']],\n",
    "    #             'fe_h': [None, galah_meta['fe_h']],\n",
    "    #             'fe_h_err': [None, galah_meta['fe_h_err']],\n",
    "    #             'rv': [None, galah_meta['rv']],\n",
    "    #             'rv_err': [None, galah_meta['rv_err']],\n",
    "    #             'ra': [None, galah_meta['ra']],\n",
    "    #             'dec': [None, galah_meta['dec']],\n",
    "    #             'instruments': instruments,\n",
    "    #             'obj_class' : \"Star\"\n",
    "    #         }\n",
    "\n",
    "\n",
    "            # save_to_hdf5(flux, wavelength, sigma, flux_mask, unique_id, instrument_type, hdf5_file, index, latent_size, combined_meta)\n",
    "\n",
    "        except ValueError as e:\n",
    "            print(f\"Skipping {galah_id}: {str(e)}\")\n",
    "            continue\n",
    "\n"
   ]
  },
  {
   "cell_type": "code",
   "execution_count": null,
   "id": "edf4e7e4-6bd2-49fd-b455-4ec3fabbfb52",
   "metadata": {},
   "outputs": [],
   "source": [
    "process_spectra(apogee_dir, galah_dir, apogee_ids, galah_ids, hdf5_file, latent_size, catalog_path)"
   ]
  },
  {
   "cell_type": "code",
   "execution_count": 13,
   "id": "178df1b6-bec8-4cf4-8286-537bb7111e2e",
   "metadata": {},
   "outputs": [
    {
     "name": "stderr",
     "output_type": "stream",
     "text": [
      "usage: ipykernel_launcher.py [-h] --apogee_dir APOGEE_DIR --galah_dir\n",
      "                             GALAH_DIR --combined_file COMBINED_FILE\n",
      "                             --hdf5_path HDF5_PATH [--latent_size LATENT_SIZE]\n",
      "                             --catalog_path CATALOG_PATH\n",
      "ipykernel_launcher.py: error: the following arguments are required: --apogee_dir, --galah_dir, --combined_file, --hdf5_path, --catalog_path\n"
     ]
    },
    {
     "ename": "SystemExit",
     "evalue": "2",
     "output_type": "error",
     "traceback": [
      "An exception has occurred, use %tb to see the full traceback.\n",
      "\u001b[0;31mSystemExit\u001b[0m\u001b[0;31m:\u001b[0m 2\n"
     ]
    },
    {
     "name": "stderr",
     "output_type": "stream",
     "text": [
      "/opt/conda/lib/python3.11/site-packages/IPython/core/interactiveshell.py:3585: UserWarning: To exit: use 'exit', 'quit', or Ctrl-D.\n",
      "  warn(\"To exit: use 'exit', 'quit', or Ctrl-D.\", stacklevel=1)\n"
     ]
    }
   ],
   "source": [
    "\n",
    "if __name__ == \"__main__\":\n",
    "    parser = argparse.ArgumentParser(description=\"Convert APOGEE and GALAH FITS files to combined HDF5\")\n",
    "    parser.add_argument('--apogee_dir', type=str, required=True, help=\"Directory containing APOGEE FITS files\")\n",
    "    parser.add_argument('--galah_dir', type=str, required=True, help=\"Directory containing GALAH FITS files\")\n",
    "    parser.add_argument('--combined_file', type=str, required=True, help=\"Path to combined FITS catalog\")\n",
    "    parser.add_argument('--hdf5_path', type=str, required=True, help=\"Path to output HDF5 file\")\n",
    "    parser.add_argument('--latent_size', type=int, default=10, help=\"Size of the latent code\")\n",
    "    parser.add_argument('--catalog_path', type=str, required=True, help=\"Path to Galah catalog fits file\")\n",
    "\n",
    "    args = parser.parse_args()\n",
    "    with h5py.File(args.hdf5_path, 'w') as hdf5_file, fits.open(args.combined_file) as hdul:\n",
    "        data = hdul[1].data\n",
    "        apogee_ids = data['APOGEE_ID']\n",
    "        galah_ids = data['sobject_id']\n",
    "\n",
    "        process_spectra(args.apogee_dir, args.galah_dir, apogee_ids, galah_ids, hdf5_file, args.latent_size , args.catalog_path)"
   ]
  },
  {
   "cell_type": "code",
   "execution_count": null,
   "id": "e73d900c-ab14-4bf1-910a-aca1607ce9de",
   "metadata": {},
   "outputs": [],
   "source": []
  }
 ],
 "metadata": {
  "kernelspec": {
   "display_name": "Python 3 (ipykernel)",
   "language": "python",
   "name": "python3"
  },
  "language_info": {
   "codemirror_mode": {
    "name": "ipython",
    "version": 3
   },
   "file_extension": ".py",
   "mimetype": "text/x-python",
   "name": "python",
   "nbconvert_exporter": "python",
   "pygments_lexer": "ipython3",
   "version": "3.11.8"
  }
 },
 "nbformat": 4,
 "nbformat_minor": 5
}
