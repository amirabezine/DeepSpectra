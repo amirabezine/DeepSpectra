{
 "cells": [
  {
   "cell_type": "code",
   "execution_count": 7,
   "id": "41864139-62b3-45e7-876b-eda13a49a300",
   "metadata": {},
   "outputs": [],
   "source": [
    "import torch\n",
    "import torch.nn as nn\n",
    "import torch.nn.functional as F\n",
    "import numpy as np\n",
    "from torch.cuda.amp import autocast, GradScaler\n",
    "from torchinterp1d import interp1d\n",
    "\n",
    "# Simplified Generator Network\n",
    "class Generator(nn.Module):\n",
    "    def __init__(self, latent_dim, output_dim):\n",
    "        super(Generator, self).__init__()\n",
    "        self.fc = nn.Linear(latent_dim, output_dim)\n",
    "        self.apply(self.init_weights)  # Initialize weights\n",
    "\n",
    "    def forward(self, z):\n",
    "        return self.fc(z)\n",
    "\n",
    "    @staticmethod\n",
    "    def init_weights(m):\n",
    "        if isinstance(m, nn.Linear):\n",
    "            nn.init.kaiming_normal_(m.weight, mode='fan_out', nonlinearity='leaky_relu')\n",
    "            if m.bias is not None:\n",
    "                nn.init.constant_(m.bias, 0)\n",
    "\n",
    "# Simplified Downsampling Layer\n",
    "class DownsamplingLayer(nn.Module):\n",
    "    def __init__(self, padding=5):\n",
    "        super(DownsamplingLayer, self).__init__()\n",
    "        self.padding = padding\n",
    "        self.channels = [\n",
    "            (4711, 4906, 0.05),\n",
    "            (5647, 5875, 0.05),\n",
    "            (6475, 6737, 0.05),\n",
    "            (7583, 7885, 0.05),\n",
    "            (15100, 17000, 0.2)\n",
    "        ]\n",
    "        self.extended_wavelength = self.create_extended_wavelength_grid()\n",
    "\n",
    "    def create_extended_wavelength_grid(self):\n",
    "        extended_wavelengths = []\n",
    "        for start, end, step in self.channels:\n",
    "            pre_pad = np.arange(start - self.padding * step, start, step)\n",
    "            post_pad = np.arange(end + step, end + (self.padding + 1) * step, step)\n",
    "            channel = np.arange(start, end + step, step)\n",
    "            extended_wavelengths.extend(pre_pad)\n",
    "            extended_wavelengths.extend(channel)\n",
    "            extended_wavelengths.extend(post_pad)\n",
    "        return torch.FloatTensor(np.unique(extended_wavelengths))\n",
    "\n",
    "    def forward(self, high_res_flux, high_res_wavelength, observed_wavelengths, device):\n",
    "        high_res_flux = high_res_flux.to(device)\n",
    "        high_res_wavelength = high_res_wavelength.to(device)\n",
    "        observed_wavelengths = observed_wavelengths.to(device)\n",
    "        extended_wavelength = self.extended_wavelength.to(device)\n",
    "        \n",
    "        # Simplified interpolation using linear approximation for testing\n",
    "        extended_flux = interp1d(extended_wavelength, high_res_wavelength, high_res_flux)\n",
    "        observed_flux = interp1d(observed_wavelengths, extended_wavelength, extended_flux)\n",
    "        return observed_flux\n",
    "\n",
    "# Simplified FullNetwork\n",
    "class FullNetwork(nn.Module):\n",
    "    def __init__(self, generator, high_res_wavelength, device):\n",
    "        super(FullNetwork, self).__init__()\n",
    "        self.generator = generator\n",
    "        self.downsampling_layer = DownsamplingLayer()\n",
    "        self.high_res_wavelength = torch.tensor(high_res_wavelength, dtype=torch.float32)  # Convert to tensor\n",
    "        self.device = device\n",
    "    \n",
    "    def forward(self, z, observed_wavelengths):\n",
    "        high_res_flux = self.generator(z)  # Generate high-res flux from the generator\n",
    "        downsampled_flux = self.downsampling_layer(high_res_flux, self.high_res_wavelength, observed_wavelengths, self.device)\n",
    "        return downsampled_flux\n"
   ]
  },
  {
   "cell_type": "code",
   "execution_count": 8,
   "id": "8d84f7cc-a5f3-457a-ae05-a5eee2feeff1",
   "metadata": {},
   "outputs": [
    {
     "name": "stdout",
     "output_type": "stream",
     "text": [
      "Starting training step...\n",
      "Error during training: x and y must have the same number of columns, and either the same number of row or one of them having only one row.\n",
      "Allocated: 21.03 MB\n",
      "Cached: 44.00 MB\n",
      "Allocated: 20.79 MB\n",
      "Cached: 44.00 MB\n"
     ]
    }
   ],
   "source": []
  },
  {
   "cell_type": "code",
   "execution_count": null,
   "id": "ce2b2bc5-e1d7-4eca-935f-aa27ae886c74",
   "metadata": {},
   "outputs": [],
   "source": []
  }
 ],
 "metadata": {
  "kernelspec": {
   "display_name": "Python 3 (ipykernel)",
   "language": "python",
   "name": "python3"
  },
  "language_info": {
   "codemirror_mode": {
    "name": "ipython",
    "version": 3
   },
   "file_extension": ".py",
   "mimetype": "text/x-python",
   "name": "python",
   "nbconvert_exporter": "python",
   "pygments_lexer": "ipython3",
   "version": "3.11.8"
  }
 },
 "nbformat": 4,
 "nbformat_minor": 5
}
