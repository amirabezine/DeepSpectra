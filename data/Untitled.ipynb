{
 "cells": [
  {
   "cell_type": "code",
   "execution_count": 1,
   "id": "fa75bdb8-c785-4f96-bccb-7228f517c173",
   "metadata": {},
   "outputs": [
    {
     "name": "stdout",
     "output_type": "stream",
     "text": [
      "Total number of groups: 400\n"
     ]
    }
   ],
   "source": [
    "import h5py\n",
    "import os\n",
    "\n",
    "def count_groups_in_file(filepath):\n",
    "    with h5py.File(filepath, 'r') as f:\n",
    "        return len(f.keys())\n",
    "\n",
    "def count_total_groups(folder):\n",
    "    total_groups = 0\n",
    "    for filename in os.listdir(folder):\n",
    "        if filename.endswith(\".hdf5\"):\n",
    "            filepath = os.path.join(folder, filename)\n",
    "            total_groups += count_groups_in_file(filepath)\n",
    "    return total_groups\n",
    "\n",
    "folder_path = \"healpixfiles\"  # replace with your folder path\n",
    "total_groups = count_total_groups(folder_path)\n",
    "print(f\"Total number of groups: {total_groups}\")\n"
   ]
  },
  {
   "cell_type": "code",
   "execution_count": null,
   "id": "e84e8ce1-e887-4959-b423-5bd527201c6f",
   "metadata": {},
   "outputs": [],
   "source": []
  }
 ],
 "metadata": {
  "kernelspec": {
   "display_name": "Python 3 (ipykernel)",
   "language": "python",
   "name": "python3"
  },
  "language_info": {
   "codemirror_mode": {
    "name": "ipython",
    "version": 3
   },
   "file_extension": ".py",
   "mimetype": "text/x-python",
   "name": "python",
   "nbconvert_exporter": "python",
   "pygments_lexer": "ipython3",
   "version": "3.11.8"
  }
 },
 "nbformat": 4,
 "nbformat_minor": 5
}
