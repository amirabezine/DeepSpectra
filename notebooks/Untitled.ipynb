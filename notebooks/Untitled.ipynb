{
 "cells": [
  {
   "cell_type": "code",
   "execution_count": 4,
   "id": "c3c828ba-31de-48de-b191-a638d63caa30",
   "metadata": {},
   "outputs": [
    {
     "ename": "ModuleNotFoundError",
     "evalue": "No module named 'dataset'",
     "output_type": "error",
     "traceback": [
      "\u001b[0;31m---------------------------------------------------------------------------\u001b[0m",
      "\u001b[0;31mModuleNotFoundError\u001b[0m                       Traceback (most recent call last)",
      "Cell \u001b[0;32mIn[4], line 3\u001b[0m\n\u001b[1;32m      1\u001b[0m \u001b[38;5;28;01mimport\u001b[39;00m \u001b[38;5;21;01mmatplotlib\u001b[39;00m\u001b[38;5;21;01m.\u001b[39;00m\u001b[38;5;21;01mpyplot\u001b[39;00m \u001b[38;5;28;01mas\u001b[39;00m \u001b[38;5;21;01mplt\u001b[39;00m\n\u001b[1;32m      2\u001b[0m \u001b[38;5;28;01mfrom\u001b[39;00m \u001b[38;5;21;01mtorch\u001b[39;00m\u001b[38;5;21;01m.\u001b[39;00m\u001b[38;5;21;01mutils\u001b[39;00m\u001b[38;5;21;01m.\u001b[39;00m\u001b[38;5;21;01mdata\u001b[39;00m \u001b[38;5;28;01mimport\u001b[39;00m DataLoader\n\u001b[0;32m----> 3\u001b[0m \u001b[38;5;28;01mfrom\u001b[39;00m \u001b[38;5;21;01mdataset\u001b[39;00m \u001b[38;5;28;01mimport\u001b[39;00m APOGEEDataset\n",
      "\u001b[0;31mModuleNotFoundError\u001b[0m: No module named 'dataset'"
     ]
    }
   ],
   "source": [
    "import matplotlib.pyplot as plt\n",
    "from torch.utils.data import DataLoader\n",
    "from dataset import APOGEEDataset\n",
    "\n"
   ]
  },
  {
   "cell_type": "code",
   "execution_count": 2,
   "id": "3f2e630b-a809-4524-90a8-bb08bf84b3ad",
   "metadata": {},
   "outputs": [],
   "source": [
    "\n",
    "def plot_spectra_with_uncertainty(dataset, num_samples=4):\n",
    "    loader = DataLoader(dataset, batch_size=num_samples, shuffle=True)\n",
    "    data_iter = iter(loader)\n",
    "    sample_data = next(data_iter)\n",
    "\n",
    "    fig, axs = plt.subplots(num_samples, 1, figsize=(10, num_samples * 3))\n",
    "\n",
    "    for i in range(num_samples):\n",
    "        flux = sample_data['flux'][i].numpy()\n",
    "        wavelength = sample_data['wavelength'][i].numpy()\n",
    "        mask = sample_data['flux_mask'][i].numpy()\n",
    "        sigma = sample_data['sigma'][i].numpy()\n",
    "\n",
    "        upper_bound = flux + mask * sigma\n",
    "        lower_bound = flux - mask * sigma\n",
    "\n",
    "        axs[i].plot(wavelength, flux, label='Flux', color='blue')\n",
    "        axs[i].fill_between(wavelength, lower_bound, upper_bound, color='gray', alpha=0.5, label='Flux ± Mask*Sigma')\n",
    "        axs[i].legend()\n",
    "        axs[i].set_xlabel('Wavelength (Angstroms)')\n",
    "        axs[i].set_ylabel('Flux')\n",
    "        axs[i].set_title(f'Spectrum {i+1}')\n",
    "\n",
    "    plt.tight_layout()\n",
    "    plt.show()\n",
    "\n",
    "# Load your dataset (ensure you have the path and dataset loaded as needed)\n",
    "dataset_path = 'path_to_your_dataset.hdf5'  # Update this path to your actual dataset path\n",
    "dataset = APOGEEDataset(dataset_path, max_files=100)  # Adjust 'max_files' as necessary\n",
    "\n"
   ]
  },
  {
   "cell_type": "code",
   "execution_count": 3,
   "id": "7bd3ad8f-100a-451e-9076-849ea5f1be0f",
   "metadata": {},
   "outputs": [
    {
     "ename": "NameError",
     "evalue": "name 'APOGEEDataset' is not defined",
     "output_type": "error",
     "traceback": [
      "\u001b[0;31m---------------------------------------------------------------------------\u001b[0m",
      "\u001b[0;31mNameError\u001b[0m                                 Traceback (most recent call last)",
      "Cell \u001b[0;32mIn[3], line 2\u001b[0m\n\u001b[1;32m      1\u001b[0m dataset_path \u001b[38;5;241m=\u001b[39m \u001b[38;5;124m'\u001b[39m\u001b[38;5;124m../data/hdf5/spectra.hdf5\u001b[39m\u001b[38;5;124m'\u001b[39m\n\u001b[0;32m----> 2\u001b[0m dataset \u001b[38;5;241m=\u001b[39m \u001b[43mAPOGEEDataset\u001b[49m(dataset_path)\n\u001b[1;32m      5\u001b[0m plot_spectra(dataset)\n",
      "\u001b[0;31mNameError\u001b[0m: name 'APOGEEDataset' is not defined"
     ]
    }
   ],
   "source": [
    "dataset_path = '../data/hdf5/spectra.hdf5'\n",
    "dataset = APOGEEDataset(dataset_path)\n",
    "\n",
    "\n",
    "plot_spectra_with_uncertainty(dataset)\n"
   ]
  },
  {
   "cell_type": "code",
   "execution_count": null,
   "id": "523d1393-0b72-4a52-9d1b-cae9513afa24",
   "metadata": {},
   "outputs": [],
   "source": []
  }
 ],
 "metadata": {
  "kernelspec": {
   "display_name": "Python 3 (ipykernel)",
   "language": "python",
   "name": "python3"
  },
  "language_info": {
   "codemirror_mode": {
    "name": "ipython",
    "version": 3
   },
   "file_extension": ".py",
   "mimetype": "text/x-python",
   "name": "python",
   "nbconvert_exporter": "python",
   "pygments_lexer": "ipython3",
   "version": "3.11.8"
  }
 },
 "nbformat": 4,
 "nbformat_minor": 5
}
