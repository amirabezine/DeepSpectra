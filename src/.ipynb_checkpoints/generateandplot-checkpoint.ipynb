{
 "cells": [
  {
   "cell_type": "code",
   "execution_count": null,
   "id": "04889990-988e-4366-bc48-d1b3333456b6",
   "metadata": {},
   "outputs": [],
   "source": [
    "import torch\n",
    "import h5py\n",
    "import numpy as np\n",
    "import matplotlib.pyplot as plt\n",
    "from model import Generator\n",
    "from checkpoint import load_checkpoint\n",
    "from utils import get_config, resolve_path"
   ]
  },
  {
   "cell_type": "code",
   "execution_count": null,
   "id": "b7d1a413-fbd2-4171-acf0-4724997f5a05",
   "metadata": {},
   "outputs": [],
   "source": [
    "\n",
    "def generate_and_plot_spectrum():\n",
    "    config = get_config()\n",
    "    device = torch.device('cuda' if torch.cuda.is_available() else 'cpu')\n",
    "    print(f\"Using device: {device}\")\n",
    "\n",
    "    # Initialize generator\n",
    "    latent_dim = config['training']['latent_dim']\n",
    "    output_dim = config['model']['output_dim']\n",
    "    generator_layers = config['model']['generator_layers']\n",
    "    activation_function = getattr(torch.nn, config['model']['activation_function'])\n",
    "    generator = Generator(latent_dim, output_dim, generator_layers, activation_function).to(device)\n",
    "\n",
    "    # Load best model checkpoint\n",
    "    best_checkpoint_path = resolve_path(config['paths']['checkpoints']) + '/checkpoint_best.pth.tar'\n",
    "    best_checkpoint = load_checkpoint(best_checkpoint_path)\n",
    "    if best_checkpoint:\n",
    "        generator.load_state_dict(best_checkpoint['state_dict'])\n",
    "        print(\"Best model loaded successfully.\")\n",
    "    else:\n",
    "        print(\"Error loading the best model.\")\n",
    "        return\n",
    "\n",
    "    generator.eval()\n",
    "\n",
    "    # Generate a random latent code\n",
    "    latent_code = torch.randn(1, latent_dim, device=device)\n",
    "\n",
    "    # Generate spectrum\n",
    "    with torch.no_grad():\n",
    "        generated_flux = generator(latent_code).squeeze().cpu().numpy()\n",
    "\n",
    "    # Load an example spectrum from HDF5\n",
    "    hdf5_file = resolve_path(config['paths']['hdf5_data'])\n",
    "    with h5py.File(hdf5_file, 'r') as file:\n",
    "        # Assuming the dataset key names are consistent with those used earlier\n",
    "        keys = list(file.keys())\n",
    "        data = file[keys[0]]  # Load the first spectrum\n",
    "        real_flux = data['flux'][:]\n",
    "        wavelength = data['wavelength'][:]  # Use the same wavelength for generated spectrum for consistency\n",
    "\n",
    "    # Plot the generated and real spectra\n",
    "    plt.figure(figsize=(10, 6))\n",
    "    plt.plot(wavelength, generated_flux, label='Generated Spectrum', color='blue')\n",
    "    plt.plot(wavelength, real_flux, label='Real Spectrum', color='red', alpha=0.5, linewidth=0.5)\n",
    "    plt.xlabel('Wavelength (Angstroms)')\n",
    "    plt.ylabel('Flux')\n",
    "    plt.title('Comparison of Generated and Real Stellar Spectra')\n",
    "    plt.legend()\n",
    "    plt.show()\n",
    "\n",
    "if __name__ == \"__main__\":\n",
    "    generate_and_plot_spectrum()"
   ]
  }
 ],
 "metadata": {
  "kernelspec": {
   "display_name": "Python 3 (ipykernel)",
   "language": "python",
   "name": "python3"
  },
  "language_info": {
   "codemirror_mode": {
    "name": "ipython",
    "version": 3
   },
   "file_extension": ".py",
   "mimetype": "text/x-python",
   "name": "python",
   "nbconvert_exporter": "python",
   "pygments_lexer": "ipython3",
   "version": "3.11.8"
  }
 },
 "nbformat": 4,
 "nbformat_minor": 5
}
