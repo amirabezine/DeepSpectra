{
 "cells": [
  {
   "cell_type": "code",
   "execution_count": 1,
   "id": "0de0ef59-778c-4955-8847-aa00d1a6da62",
   "metadata": {},
   "outputs": [],
   "source": [
    "import h5py\n",
    "import numpy as np\n",
    "from astropy.io import fits\n",
    "import os\n",
    "from tqdm import tqdm"
   ]
  },
  {
   "cell_type": "code",
   "execution_count": 2,
   "id": "3e1bb8c5-d853-41f9-9f4d-f6833a8e7dcf",
   "metadata": {},
   "outputs": [],
   "source": [
    "\n",
    "def ensure_native_byteorder(array):\n",
    "    if array.dtype.byteorder not in ('=', '|'):  # '=' means native, '|' means not applicable\n",
    "        return array.byteswap().newbyteorder()  # Swap byte order to native\n",
    "    return array\n",
    "\n",
    "def calculate_wavelength(header, flux):\n",
    "    \"\"\"\n",
    "    Calculates the wavelength array using the FITS header information.\n",
    "    \"\"\"\n",
    "    crval = header['CRVAL1']  # Starting log10 wavelength\n",
    "    cdelt = header['CDELT1']  # Log10 wavelength increment\n",
    "    crpix = header['CRPIX1']  # Reference pixel\n",
    "    n_pixels = len(flux)\n",
    "    index = np.arange(n_pixels)\n",
    "    return 10 ** (crval + (index - (crpix - 1)) * cdelt)\n",
    "\n",
    "def create_mask(flux, sigma):\n",
    "    \"\"\"\n",
    "    Creates a mask for the flux array where the mask is 0 if the flux is zero or sigma > 0.5, and 1 otherwise.\n",
    "    \"\"\"\n",
    "    mask = np.where((flux == 0) | (sigma > 0.5), 0, 1)\n",
    "    return mask\n",
    "\n",
    "def get_snr(hdul):\n",
    "    try:\n",
    "        snr = hdul[4].data['SNR'][0]\n",
    "        return snr if snr > 0 else 0\n",
    "    except KeyError:\n",
    "        return 0\n",
    "\n",
    "\n"
   ]
  },
  {
   "cell_type": "code",
   "execution_count": 3,
   "id": "6f8a6ef3-e467-44ee-98f1-01157084f04e",
   "metadata": {},
   "outputs": [],
   "source": [
    "def convert_fits_to_hdf5(fits_dir, hdf5_path, max_files=300, save_interval=10):\n",
    "    with h5py.File(hdf5_path, 'w') as hdf5_file:\n",
    "        all_files = [f for f in os.listdir(fits_dir) if f.endswith('.fits')]\n",
    "        all_files = all_files[:max_files]  # Limit the number of files\n",
    "\n",
    "        for i in tqdm(range(0, len(all_files), save_interval), desc=\"Converting FITS to HDF5\"):\n",
    "            for file_name in all_files[i:i+save_interval]:\n",
    "                file_path = os.path.join(fits_dir, file_name)\n",
    "                with fits.open(file_path) as hdul:\n",
    "                    flux = hdul[1].data.astype(np.float32)\n",
    "                    header = hdul[1].header\n",
    "                    wavelength = calculate_wavelength(header, flux).astype(np.float32)\n",
    "                    snr = get_snr(hdul)\n",
    "                    sigma = hdul[2].data.astype(np.float32)\n",
    "                    wavelength_var = calculate_wavelength(header, sigma).astype(np.float32)\n",
    "\n",
    "                    flux = ensure_native_byteorder(flux)\n",
    "                    sigma = ensure_native_byteorder(sigma)\n",
    "                    wavelength = ensure_native_byteorder(wavelength)\n",
    "\n",
    "                    flux_mask = create_mask(flux, sigma).astype(np.float32)\n",
    "\n",
    "                    grp = hdf5_file.create_group(file_name)\n",
    "                    grp.create_dataset('flux', data=flux)\n",
    "                    grp.create_dataset('wavelength', data=wavelength)\n",
    "                    grp.create_dataset('snr', data=snr)\n",
    "                    grp.create_dataset('flux_mask', data=flux_mask)\n",
    "                    grp.create_dataset('sigma', data=sigma)\n",
    "                    grp.create_dataset('wavelength_var', data=wavelength_var)\n",
    "            \n",
    "            hdf5_file.flush()  # Ensure data is written to disk\n"
   ]
  },
  {
   "cell_type": "code",
   "execution_count": 6,
   "id": "6170e312-8a5f-454f-9cad-0041857f58ac",
   "metadata": {},
   "outputs": [
    {
     "name": "stderr",
     "output_type": "stream",
     "text": [
      "Converting FITS to HDF5: 100%|██████████| 400/400 [06:41<00:00,  1.00s/it]\n"
     ]
    }
   ],
   "source": [
    "if __name__ == \"__main__\":\n",
    "    convert_fits_to_hdf5(\n",
    "        \"../../../../projects/k-pop/spectra/apogee/dr17\", \n",
    "        \"../data/hdf5/spectra.hdf5\", \n",
    "        max_files=4000    )"
   ]
  },
  {
   "cell_type": "code",
   "execution_count": null,
   "id": "de41dc38-e1d2-423b-8634-909229f04db5",
   "metadata": {},
   "outputs": [],
   "source": []
  }
 ],
 "metadata": {
  "kernelspec": {
   "display_name": "Python 3 (ipykernel)",
   "language": "python",
   "name": "python3"
  },
  "language_info": {
   "codemirror_mode": {
    "name": "ipython",
    "version": 3
   },
   "file_extension": ".py",
   "mimetype": "text/x-python",
   "name": "python",
   "nbconvert_exporter": "python",
   "pygments_lexer": "ipython3",
   "version": "3.11.8"
  }
 },
 "nbformat": 4,
 "nbformat_minor": 5
}
