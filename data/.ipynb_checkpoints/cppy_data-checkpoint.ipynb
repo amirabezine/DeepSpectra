{
 "cells": [
  {
   "cell_type": "code",
   "execution_count": 4,
   "id": "1ac7ef46-4d6c-4f60-aa24-1babb8690ee7",
   "metadata": {},
   "outputs": [
    {
     "name": "stdout",
     "output_type": "stream",
     "text": [
      "Source APOGEE file not found: ../../../../projects/k-pop/spectra/dr17/apogee=dr17-2M04394779-5753520.fits\n",
      "Copied: ../../../../projects/k-pop/spectra/galah/dr3/1311180024010151.fits to ./test2/galah/1311180024010151.fits\n",
      "Copied: ../../../../projects/k-pop/spectra/galah/dr3/1311180024010152.fits to ./test2/galah/1311180024010152.fits\n",
      "Copied: ../../../../projects/k-pop/spectra/galah/dr3/1311180024010153.fits to ./test2/galah/1311180024010153.fits\n",
      "Copied: ../../../../projects/k-pop/spectra/galah/dr3/1311180024010154.fits to ./test2/galah/1311180024010154.fits\n",
      "Source APOGEE file not found: ../../../../projects/k-pop/spectra/dr17/apogee=dr17-2M04390586-5752435.fits\n",
      "Copied: ../../../../projects/k-pop/spectra/galah/dr3/1311180024010161.fits to ./test2/galah/1311180024010161.fits\n",
      "Copied: ../../../../projects/k-pop/spectra/galah/dr3/1311180024010162.fits to ./test2/galah/1311180024010162.fits\n",
      "Copied: ../../../../projects/k-pop/spectra/galah/dr3/1311180024010163.fits to ./test2/galah/1311180024010163.fits\n",
      "Copied: ../../../../projects/k-pop/spectra/galah/dr3/1311180024010164.fits to ./test2/galah/1311180024010164.fits\n",
      "Source APOGEE file not found: ../../../../projects/k-pop/spectra/dr17/apogee=dr17-2M04372258-5755132.fits\n",
      "Copied: ../../../../projects/k-pop/spectra/galah/dr3/1311180024010231.fits to ./test2/galah/1311180024010231.fits\n",
      "Copied: ../../../../projects/k-pop/spectra/galah/dr3/1311180024010232.fits to ./test2/galah/1311180024010232.fits\n",
      "Copied: ../../../../projects/k-pop/spectra/galah/dr3/1311180024010233.fits to ./test2/galah/1311180024010233.fits\n",
      "Copied: ../../../../projects/k-pop/spectra/galah/dr3/1311180024010234.fits to ./test2/galah/1311180024010234.fits\n",
      "Source APOGEE file not found: ../../../../projects/k-pop/spectra/dr17/apogee=dr17-2M04391862-5802387.fits\n",
      "Copied: ../../../../projects/k-pop/spectra/galah/dr3/1311180024010251.fits to ./test2/galah/1311180024010251.fits\n",
      "Copied: ../../../../projects/k-pop/spectra/galah/dr3/1311180024010252.fits to ./test2/galah/1311180024010252.fits\n",
      "Copied: ../../../../projects/k-pop/spectra/galah/dr3/1311180024010253.fits to ./test2/galah/1311180024010253.fits\n",
      "Copied: ../../../../projects/k-pop/spectra/galah/dr3/1311180024010254.fits to ./test2/galah/1311180024010254.fits\n",
      "Source APOGEE file not found: ../../../../projects/k-pop/spectra/dr17/apogee=dr17-2M04384845-5813280.fits\n",
      "Copied: ../../../../projects/k-pop/spectra/galah/dr3/1311180024010381.fits to ./test2/galah/1311180024010381.fits\n",
      "Copied: ../../../../projects/k-pop/spectra/galah/dr3/1311180024010382.fits to ./test2/galah/1311180024010382.fits\n",
      "Copied: ../../../../projects/k-pop/spectra/galah/dr3/1311180024010383.fits to ./test2/galah/1311180024010383.fits\n",
      "Copied: ../../../../projects/k-pop/spectra/galah/dr3/1311180024010384.fits to ./test2/galah/1311180024010384.fits\n",
      "Source APOGEE file not found: ../../../../projects/k-pop/spectra/dr17/apogee=dr17-2M04373299-5814393.fits\n",
      "Copied: ../../../../projects/k-pop/spectra/galah/dr3/1311180024010461.fits to ./test2/galah/1311180024010461.fits\n",
      "Copied: ../../../../projects/k-pop/spectra/galah/dr3/1311180024010462.fits to ./test2/galah/1311180024010462.fits\n"
     ]
    },
    {
     "ename": "KeyboardInterrupt",
     "evalue": "",
     "output_type": "error",
     "traceback": [
      "\u001b[0;31m---------------------------------------------------------------------------\u001b[0m",
      "\u001b[0;31mKeyboardInterrupt\u001b[0m                         Traceback (most recent call last)",
      "Cell \u001b[0;32mIn[4], line 39\u001b[0m\n\u001b[1;32m     37\u001b[0m dest_galah_file \u001b[38;5;241m=\u001b[39m os\u001b[38;5;241m.\u001b[39mpath\u001b[38;5;241m.\u001b[39mjoin(dest_dir_galah, \u001b[38;5;124mf\u001b[39m\u001b[38;5;124m'\u001b[39m\u001b[38;5;132;01m{\u001b[39;00mgalah_id\u001b[38;5;132;01m}\u001b[39;00m\u001b[38;5;132;01m{\u001b[39;00mi\u001b[38;5;132;01m}\u001b[39;00m\u001b[38;5;124m.fits\u001b[39m\u001b[38;5;124m'\u001b[39m)\n\u001b[1;32m     38\u001b[0m \u001b[38;5;28;01mif\u001b[39;00m os\u001b[38;5;241m.\u001b[39mpath\u001b[38;5;241m.\u001b[39mexists(src_galah_file):\n\u001b[0;32m---> 39\u001b[0m     \u001b[43mshutil\u001b[49m\u001b[38;5;241;43m.\u001b[39;49m\u001b[43mcopy\u001b[49m\u001b[43m(\u001b[49m\u001b[43msrc_galah_file\u001b[49m\u001b[43m,\u001b[49m\u001b[43m \u001b[49m\u001b[43mdest_galah_file\u001b[49m\u001b[43m)\u001b[49m\n\u001b[1;32m     40\u001b[0m     \u001b[38;5;28mprint\u001b[39m(\u001b[38;5;124mf\u001b[39m\u001b[38;5;124m'\u001b[39m\u001b[38;5;124mCopied: \u001b[39m\u001b[38;5;132;01m{\u001b[39;00msrc_galah_file\u001b[38;5;132;01m}\u001b[39;00m\u001b[38;5;124m to \u001b[39m\u001b[38;5;132;01m{\u001b[39;00mdest_galah_file\u001b[38;5;132;01m}\u001b[39;00m\u001b[38;5;124m'\u001b[39m)\n\u001b[1;32m     41\u001b[0m \u001b[38;5;28;01melse\u001b[39;00m:\n",
      "File \u001b[0;32m/opt/conda/lib/python3.11/shutil.py:431\u001b[0m, in \u001b[0;36mcopy\u001b[0;34m(src, dst, follow_symlinks)\u001b[0m\n\u001b[1;32m    429\u001b[0m \u001b[38;5;28;01mif\u001b[39;00m os\u001b[38;5;241m.\u001b[39mpath\u001b[38;5;241m.\u001b[39misdir(dst):\n\u001b[1;32m    430\u001b[0m     dst \u001b[38;5;241m=\u001b[39m os\u001b[38;5;241m.\u001b[39mpath\u001b[38;5;241m.\u001b[39mjoin(dst, os\u001b[38;5;241m.\u001b[39mpath\u001b[38;5;241m.\u001b[39mbasename(src))\n\u001b[0;32m--> 431\u001b[0m \u001b[43mcopyfile\u001b[49m\u001b[43m(\u001b[49m\u001b[43msrc\u001b[49m\u001b[43m,\u001b[49m\u001b[43m \u001b[49m\u001b[43mdst\u001b[49m\u001b[43m,\u001b[49m\u001b[43m \u001b[49m\u001b[43mfollow_symlinks\u001b[49m\u001b[38;5;241;43m=\u001b[39;49m\u001b[43mfollow_symlinks\u001b[49m\u001b[43m)\u001b[49m\n\u001b[1;32m    432\u001b[0m copymode(src, dst, follow_symlinks\u001b[38;5;241m=\u001b[39mfollow_symlinks)\n\u001b[1;32m    433\u001b[0m \u001b[38;5;28;01mreturn\u001b[39;00m dst\n",
      "File \u001b[0;32m/opt/conda/lib/python3.11/shutil.py:269\u001b[0m, in \u001b[0;36mcopyfile\u001b[0;34m(src, dst, follow_symlinks)\u001b[0m\n\u001b[1;32m    267\u001b[0m \u001b[38;5;28;01melif\u001b[39;00m _USE_CP_SENDFILE:\n\u001b[1;32m    268\u001b[0m     \u001b[38;5;28;01mtry\u001b[39;00m:\n\u001b[0;32m--> 269\u001b[0m         \u001b[43m_fastcopy_sendfile\u001b[49m\u001b[43m(\u001b[49m\u001b[43mfsrc\u001b[49m\u001b[43m,\u001b[49m\u001b[43m \u001b[49m\u001b[43mfdst\u001b[49m\u001b[43m)\u001b[49m\n\u001b[1;32m    270\u001b[0m         \u001b[38;5;28;01mreturn\u001b[39;00m dst\n\u001b[1;32m    271\u001b[0m     \u001b[38;5;28;01mexcept\u001b[39;00m _GiveupOnFastCopy:\n",
      "File \u001b[0;32m/opt/conda/lib/python3.11/shutil.py:144\u001b[0m, in \u001b[0;36m_fastcopy_sendfile\u001b[0;34m(fsrc, fdst)\u001b[0m\n\u001b[1;32m    142\u001b[0m \u001b[38;5;28;01mwhile\u001b[39;00m \u001b[38;5;28;01mTrue\u001b[39;00m:\n\u001b[1;32m    143\u001b[0m     \u001b[38;5;28;01mtry\u001b[39;00m:\n\u001b[0;32m--> 144\u001b[0m         sent \u001b[38;5;241m=\u001b[39m os\u001b[38;5;241m.\u001b[39msendfile(outfd, infd, offset, blocksize)\n\u001b[1;32m    145\u001b[0m     \u001b[38;5;28;01mexcept\u001b[39;00m \u001b[38;5;167;01mOSError\u001b[39;00m \u001b[38;5;28;01mas\u001b[39;00m err:\n\u001b[1;32m    146\u001b[0m         \u001b[38;5;66;03m# ...in oder to have a more informative exception.\u001b[39;00m\n\u001b[1;32m    147\u001b[0m         err\u001b[38;5;241m.\u001b[39mfilename \u001b[38;5;241m=\u001b[39m fsrc\u001b[38;5;241m.\u001b[39mname\n",
      "\u001b[0;31mKeyboardInterrupt\u001b[0m: "
     ]
    }
   ],
   "source": [
    "import os\n",
    "import shutil\n",
    "from astropy.io import fits\n",
    "\n",
    "# Path to the original FITS file\n",
    "fits_file_path = 'test/combined.fits'\n",
    "# Directory containing the APOGEE FITS files\n",
    "apogee_dir = '../../../../projects/k-pop/spectra/dr17'\n",
    "# Directory containing the GALAH FITS files (assuming it's similar to APOGEE for example purposes)\n",
    "galah_dir = '../../../../projects/k-pop/spectra/galah/dr3'\n",
    "# Destination directory\n",
    "dest_dir_apogee = './test2/apogee'\n",
    "dest_dir_galah = './test2/galah'\n",
    "\n",
    "\n",
    "# Open the FITS file and read APOGEE_IDs and GALAH sobject_id\n",
    "with fits.open(fits_file_path) as hdul:\n",
    "    apogee_ids = hdul[1].data['APOGEE_ID']\n",
    "    galah_ids = hdul[1].data['sobject_id']  # Assuming sobject_id are the GALAH IDs\n",
    "\n",
    "# Copy the first five corresponding FITS files for both APOGEE and GALAH\n",
    "for  (apogee_id, galah_id) in zip(apogee_ids, galah_ids):\n",
    "\n",
    "\n",
    "    # Handle APOGEE files\n",
    "    src_apogee_file = os.path.join(apogee_dir, f'aspcapStar-dr17-{apogee_id.strip()}.fits')\n",
    "    dest_apogee_file = os.path.join(dest_dir_apogee, f'aspcapStar-dr17-{apogee_id.strip()}.fits')\n",
    "    if os.path.exists(src_apogee_file):\n",
    "        shutil.copy(src_apogee_file, dest_apogee_file)\n",
    "        print(f'Copied: {src_apogee_file} to {dest_apogee_file}')\n",
    "    else:\n",
    "        print(f'Source APOGEE file not found: {src_apogee_file}')\n",
    "\n",
    "    # Handle GALAH files\n",
    "    for i in range(1, 5):\n",
    "        src_galah_file = os.path.join(galah_dir, f'{galah_id}{i}.fits')\n",
    "        dest_galah_file = os.path.join(dest_dir_galah, f'{galah_id}{i}.fits')\n",
    "        if os.path.exists(src_galah_file):\n",
    "            shutil.copy(src_galah_file, dest_galah_file)\n",
    "            print(f'Copied: {src_galah_file} to {dest_galah_file}')\n",
    "        else:\n",
    "            print(f'Source GALAH file not found: {src_galah_file}')\n",
    "\n",
    "print(\"Files have been copied.\")\n"
   ]
  },
  {
   "cell_type": "code",
   "execution_count": null,
   "id": "cd588233-8647-4a7d-a7ec-676f23911e74",
   "metadata": {},
   "outputs": [],
   "source": []
  }
 ],
 "metadata": {
  "kernelspec": {
   "display_name": "Python 3 (ipykernel)",
   "language": "python",
   "name": "python3"
  },
  "language_info": {
   "codemirror_mode": {
    "name": "ipython",
    "version": 3
   },
   "file_extension": ".py",
   "mimetype": "text/x-python",
   "name": "python",
   "nbconvert_exporter": "python",
   "pygments_lexer": "ipython3",
   "version": "3.11.8"
  }
 },
 "nbformat": 4,
 "nbformat_minor": 5
}
