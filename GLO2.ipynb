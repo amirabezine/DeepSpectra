{
 "cells": [
  {
   "cell_type": "code",
   "execution_count": 1,
   "id": "4f4ae3e6-1452-445d-b478-a70ee91b3810",
   "metadata": {},
   "outputs": [],
   "source": [
    "import os\n",
    "import torch\n",
    "import torch.nn as nn\n",
    "import numpy as np\n",
    "import matplotlib.pyplot as plt\n",
    "from torch.utils.data import DataLoader\n",
    "from multiprocessing import set_start_method, Manager, Pool\n",
    "from module import APOGEEDataset\n",
    "from tqdm import tqdm\n",
    "\n",
    "# To avoid issues with non-fork-safe libraries\n",
    "try:\n",
    "    set_start_method('spawn')\n",
    "except RuntimeError:\n",
    "    pass"
   ]
  },
  {
   "cell_type": "code",
   "execution_count": 2,
   "id": "c095a1fc-b94a-4aa4-9a08-23a3cf4681ed",
   "metadata": {},
   "outputs": [],
   "source": [
    "directory = '../../../projects/k-pop/spectra/apogee/dr17'\n",
    "dataset = APOGEEDataset(directory, max_files=500)\n",
    "dataloader = DataLoader(dataset, batch_size=10, shuffle=True, num_workers=8)\n"
   ]
  },
  {
   "cell_type": "markdown",
   "id": "4ba742e1-5a12-4e90-9631-672326ab242a",
   "metadata": {},
   "source": [
    "# Model Definition"
   ]
  },
  {
   "cell_type": "code",
   "execution_count": 3,
   "id": "8e5e2c98-7210-487e-9da9-76676f0233a0",
   "metadata": {},
   "outputs": [],
   "source": [
    "class Generator(nn.Module):\n",
    "    def __init__(self, latent_dim, output_dim):\n",
    "        super(Generator, self).__init__()\n",
    "        self.model = nn.Sequential(\n",
    "            nn.Linear(latent_dim, 128), nn.LeakyReLU(0.01), nn.BatchNorm1d(128),\n",
    "            nn.Linear(128, 256), nn.LeakyReLU(0.01), nn.BatchNorm1d(256),\n",
    "            nn.Linear(256, 512), nn.LeakyReLU(0.01), nn.BatchNorm1d(512),\n",
    "            nn.Linear(512, 512), nn.LeakyReLU(0.01), nn.BatchNorm1d(512),\n",
    "            nn.Linear(512, 256), nn.LeakyReLU(0.01), nn.BatchNorm1d(256),\n",
    "            nn.Linear(256, 128), nn.LeakyReLU(0.01), nn.BatchNorm1d(128),\n",
    "            nn.Linear(128, output_dim)\n",
    "        )\n",
    "\n",
    "    def forward(self, z):\n",
    "        return self.model(z)\n"
   ]
  },
  {
   "cell_type": "markdown",
   "id": "832c2dcd-08f6-429f-8154-6fe8981af905",
   "metadata": {},
   "source": [
    "# Custom Loss Function"
   ]
  },
  {
   "cell_type": "code",
   "execution_count": 4,
   "id": "e576ba6b-9f4a-478b-b0ed-c8d58361934e",
   "metadata": {},
   "outputs": [],
   "source": [
    "def weighted_min_loss(generator, z, batch, loss_func):\n",
    "    real_data, sigma, mask = batch['flux'], batch['sigma'], batch['flux_mask']\n",
    "    sigma_safe = sigma + 1e-8\n",
    "    weights = mask / sigma_safe\n",
    "    generated_data = generator(z)\n",
    "    losses = loss_func(generated_data, real_data, reduction='none')\n",
    "    weighted_losses = (weights * losses).sum(dim=1)\n",
    "    min_loss = weighted_losses.min()\n",
    "    return min_loss\n"
   ]
  },
  {
   "cell_type": "markdown",
   "id": "8fc4f216-ae3e-488a-a100-102ef3be321c",
   "metadata": {},
   "source": [
    "# Hyperparameters and Optimizer Setup"
   ]
  },
  {
   "cell_type": "code",
   "execution_count": 5,
   "id": "2996f6ef-bcfb-49c8-bb46-5e101c60c462",
   "metadata": {},
   "outputs": [],
   "source": [
    "latent_dim = 50\n",
    "output_dim = 8575\n",
    "learning_rate_gen = 0.1\n",
    "learning_rate_latent = 0.01\n",
    "weight_decay = 1e-4\n",
    "loss_func = torch.nn.functional.mse_loss\n",
    "\n",
    "generator = Generator(latent_dim, output_dim)\n",
    "latent_vectors = torch.randn((len(dataset), latent_dim), requires_grad=True)\n",
    "optimizer = torch.optim.Adam([\n",
    "    {'params': generator.parameters(), 'lr': learning_rate_gen, 'weight_decay': weight_decay},\n",
    "    {'params': latent_vectors, 'lr': learning_rate_latent}\n",
    "])\n"
   ]
  },
  {
   "cell_type": "markdown",
   "id": "9cfdcea2-a819-4c59-8c32-f7b97cc6efa5",
   "metadata": {},
   "source": [
    "# Multiprocessing Setup"
   ]
  },
  {
   "cell_type": "code",
   "execution_count": 6,
   "id": "8c82660b-5a52-42d0-a339-2dae9f75a450",
   "metadata": {},
   "outputs": [],
   "source": [
    "def train_batch(batch, generator_state_dict, latent_vectors, optimizer_state_dict):\n",
    "    \"\"\"\n",
    "    Train a single batch using the provided state dictionaries and return the loss.\n",
    "    \"\"\"\n",
    "    local_generator = Generator(latent_dim, output_dim)\n",
    "    local_generator.load_state_dict(generator_state_dict)\n",
    "    local_generator.train()\n",
    "\n",
    "    # Create a local optimizer for this process\n",
    "    local_optimizer = torch.optim.Adam([\n",
    "        {'params': local_generator.parameters(), 'lr': learning_rate_gen, 'weight_decay': weight_decay},\n",
    "        {'params': latent_vectors, 'lr': learning_rate_latent}\n",
    "    ])\n",
    "    local_optimizer.load_state_dict(optimizer_state_dict)\n",
    "\n",
    "    # Generate data\n",
    "    z = latent_vectors[batch['index']]\n",
    "    generated_data = local_generator(z)\n",
    "\n",
    "    # Calculate the loss\n",
    "    loss = weighted_min_loss(local_generator, z, batch, loss_func)\n",
    "    loss.backward()\n",
    "    local_optimizer.step()\n",
    "\n",
    "    return local_generator.state_dict(), local_optimizer.state_dict(), loss.item()\n"
   ]
  },
  {
   "cell_type": "code",
   "execution_count": 7,
   "id": "386334d9-ae0e-4bd6-929d-505a406b73a8",
   "metadata": {},
   "outputs": [],
   "source": [
    "def init_processes(dataset, num_processes, num_epochs):\n",
    "    with get_context(\"spawn\").Pool(num_processes) as pool:\n",
    "        manager = Manager()\n",
    "        losses_per_epoch = manager.list()\n",
    "\n",
    "        # Initialize the generator and optimizer in the main process\n",
    "        generator = Generator(latent_dim, output_dim)\n",
    "        optimizer = torch.optim.Adam([\n",
    "            {'params': generator.parameters(), 'lr': learning_rate_gen, 'weight_decay': weight_decay},\n",
    "            {'params': latent_vectors, 'lr': learning_rate_latent}\n",
    "        ])\n",
    "\n",
    "        for epoch in range(num_epochs):\n",
    "            epoch_losses = manager.list()\n",
    "\n",
    "            # Process each batch in parallel\n",
    "            batch_results = [pool.apply_async(train_batch, args=(batch, generator.state_dict(), latent_vectors, optimizer.state_dict())) for batch in dataloader]\n",
    "\n",
    "            # Update generator and optimizer with the new states and collect losses\n",
    "            for result in batch_results:\n",
    "                generator_state_dict, optimizer_state_dict, batch_loss = result.get()\n",
    "                generator.load_state_dict(generator_state_dict)\n",
    "                optimizer.load_state_dict(optimizer_state_dict)\n",
    "                epoch_losses.append(batch_loss)\n",
    "\n",
    "            # Aggregate losses for the epoch\n",
    "            avg_loss = sum(epoch_losses) / len(epoch_losses)\n",
    "            losses_per_epoch.append(avg_loss)\n",
    "\n",
    "            # Visualization and logging\n",
    "            if epoch % 10 == 0:\n",
    "                with torch.no_grad():\n",
    "                    generator.eval()\n",
    "                    sample_latent = torch.randn(1, latent_dim)\n",
    "                    generated_spectra = generator(sample_latent).squeeze().numpy()\n",
    "                    real_spectra = next(iter(dataloader))['flux'][0].numpy()  # Extracting real spectra for comparison\n",
    "                    plot_spectra(real_spectra, generated_spectra, epoch, 0)\n",
    "                    print(f'Epoch {epoch+1}/{num_epochs}, Average Loss: {avg_loss:.4f}')\n",
    "                generator.train()\n",
    "\n",
    "    return list(losses_per_epoch)"
   ]
  },
  {
   "cell_type": "markdown",
   "id": "e070e332-1b22-47f7-b46e-a4e2a64079bc",
   "metadata": {},
   "source": [
    "# Visualization and Logging\n"
   ]
  },
  {
   "cell_type": "code",
   "execution_count": 8,
   "id": "665b57a0-e2ca-4dc7-90cf-5d1dafeaeff9",
   "metadata": {},
   "outputs": [
    {
     "ename": "NameError",
     "evalue": "name 'get_context' is not defined",
     "output_type": "error",
     "traceback": [
      "\u001b[0;31m---------------------------------------------------------------------------\u001b[0m",
      "\u001b[0;31mNameError\u001b[0m                                 Traceback (most recent call last)",
      "Cell \u001b[0;32mIn[8], line 3\u001b[0m\n\u001b[1;32m      1\u001b[0m \u001b[38;5;28;01mif\u001b[39;00m \u001b[38;5;18m__name__\u001b[39m \u001b[38;5;241m==\u001b[39m \u001b[38;5;124m'\u001b[39m\u001b[38;5;124m__main__\u001b[39m\u001b[38;5;124m'\u001b[39m:\n\u001b[1;32m      2\u001b[0m     latent_vectors \u001b[38;5;241m=\u001b[39m torch\u001b[38;5;241m.\u001b[39mrandn((\u001b[38;5;28mlen\u001b[39m(dataset), latent_dim), requires_grad\u001b[38;5;241m=\u001b[39m\u001b[38;5;28;01mTrue\u001b[39;00m)\n\u001b[0;32m----> 3\u001b[0m     loss_values \u001b[38;5;241m=\u001b[39m \u001b[43minit_processes\u001b[49m\u001b[43m(\u001b[49m\u001b[43mdataset\u001b[49m\u001b[43m,\u001b[49m\u001b[43m \u001b[49m\u001b[38;5;241;43m16\u001b[39;49m\u001b[43m,\u001b[49m\u001b[43m \u001b[49m\u001b[38;5;241;43m200\u001b[39;49m\u001b[43m)\u001b[49m  \u001b[38;5;66;03m# Start training with 16 processes\u001b[39;00m\n\u001b[1;32m      5\u001b[0m     \u001b[38;5;66;03m# Plotting the training losses after all epochs\u001b[39;00m\n\u001b[1;32m      6\u001b[0m     plt\u001b[38;5;241m.\u001b[39mfigure(figsize\u001b[38;5;241m=\u001b[39m(\u001b[38;5;241m10\u001b[39m, \u001b[38;5;241m5\u001b[39m))\n",
      "Cell \u001b[0;32mIn[7], line 2\u001b[0m, in \u001b[0;36minit_processes\u001b[0;34m(dataset, num_processes, num_epochs)\u001b[0m\n\u001b[1;32m      1\u001b[0m \u001b[38;5;28;01mdef\u001b[39;00m \u001b[38;5;21minit_processes\u001b[39m(dataset, num_processes, num_epochs):\n\u001b[0;32m----> 2\u001b[0m     \u001b[38;5;28;01mwith\u001b[39;00m \u001b[43mget_context\u001b[49m(\u001b[38;5;124m\"\u001b[39m\u001b[38;5;124mspawn\u001b[39m\u001b[38;5;124m\"\u001b[39m)\u001b[38;5;241m.\u001b[39mPool(num_processes) \u001b[38;5;28;01mas\u001b[39;00m pool:\n\u001b[1;32m      3\u001b[0m         manager \u001b[38;5;241m=\u001b[39m Manager()\n\u001b[1;32m      4\u001b[0m         losses_per_epoch \u001b[38;5;241m=\u001b[39m manager\u001b[38;5;241m.\u001b[39mlist()\n",
      "\u001b[0;31mNameError\u001b[0m: name 'get_context' is not defined"
     ]
    }
   ],
   "source": [
    "\n",
    "if __name__ == '__main__':\n",
    "    latent_vectors = torch.randn((len(dataset), latent_dim), requires_grad=True)\n",
    "    loss_values = init_processes(dataset, 16, 200)  # Start training with 16 processes\n",
    "\n",
    "    # Plotting the training losses after all epochs\n",
    "    plt.figure(figsize=(10, 5))\n",
    "    plt.plot(loss_values, label='Training Loss')\n",
    "    plt.title('Loss During Training')\n",
    "    plt.xlabel('Epoch')\n",
    "    plt.ylabel('Loss')\n",
    "    plt.legend()\n",
    "    plt.show()"
   ]
  }
 ],
 "metadata": {
  "kernelspec": {
   "display_name": "Python 3 (ipykernel)",
   "language": "python",
   "name": "python3"
  },
  "language_info": {
   "codemirror_mode": {
    "name": "ipython",
    "version": 3
   },
   "file_extension": ".py",
   "mimetype": "text/x-python",
   "name": "python",
   "nbconvert_exporter": "python",
   "pygments_lexer": "ipython3",
   "version": "3.11.8"
  }
 },
 "nbformat": 4,
 "nbformat_minor": 5
}
