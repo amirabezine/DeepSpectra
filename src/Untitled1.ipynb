{
 "cells": [
  {
   "cell_type": "code",
   "execution_count": 5,
   "id": "14d8fd8a-92a9-4188-839d-2d837cd2b837",
   "metadata": {},
   "outputs": [
    {
     "name": "stdout",
     "output_type": "stream",
     "text": [
      "tensor([[[ 0.2760,  1.2130,  1.0729,  0.4244,  0.3087],\n",
      "         [ 0.6272,  1.2952,  0.1131, -1.3732, -0.4800],\n",
      "         [ 0.2979, -1.1214,  0.0164,  1.4246, -0.5989],\n",
      "         [-1.2109,  0.2366,  0.7696, -0.8035, -0.8255]]])\n",
      "torch.Size([1, 4, 30])\n"
     ]
    }
   ],
   "source": [
    "import torch\n",
    "import torch.nn as nn\n",
    "\n",
    "# 2D input\n",
    "input_shape = (4, 5)  # 10 rows, 20 columns\n",
    "x = torch.randn(1, *input_shape)  # 1 is the batch size\n",
    "\n",
    "print(x)\n",
    "\n",
    "# Linear layer\n",
    "linear = nn.Linear(in_features=5, out_features=30)\n",
    "output = linear(x)\n",
    "\n",
    "print(output.shape)  # Output: torch.Size([1, 10, 30])\n",
    "pr"
   ]
  },
  {
   "cell_type": "code",
   "execution_count": 6,
   "id": "b8dd2388-850c-4631-b842-c697ef20b0c1",
   "metadata": {},
   "outputs": [
    {
     "data": {
      "text/plain": [
       "tensor([[[ 0.1905, -0.2360, -0.2053, -0.2610, -0.3912,  0.3399, -0.6973,\n",
       "           0.1033,  0.9741,  0.5628,  0.0389, -0.1824, -0.3992, -0.7927,\n",
       "          -0.1711, -0.5420, -0.4703,  0.0291, -0.3251,  0.1695,  0.8731,\n",
       "          -1.0046,  0.1572, -0.0994,  0.5664, -0.3688, -0.0816,  0.6668,\n",
       "           0.8375, -0.4091],\n",
       "         [ 0.4102,  0.6772, -0.1949,  0.6795,  0.1661,  0.6836, -0.3199,\n",
       "          -0.8748,  0.6855, -0.0701,  0.4740, -0.4025,  0.1223, -0.1498,\n",
       "          -0.6818, -0.2329,  0.4690, -0.1503,  0.6310,  0.8566,  0.0665,\n",
       "          -0.5087, -0.5925, -0.8389,  0.1517, -0.2474,  0.2444,  0.8240,\n",
       "           0.2003, -0.0240],\n",
       "         [ 0.5474, -0.5512, -0.0831, -0.8365,  0.2020, -0.4148, -0.4491,\n",
       "           0.3547, -0.0040, -0.1837,  0.2674,  1.0462, -0.4612, -0.5069,\n",
       "           0.3118, -0.7054, -1.3046,  0.2161, -0.3874, -0.1488, -0.1115,\n",
       "          -0.9281,  1.4109,  0.0278,  1.3912,  0.8302, -0.8739, -0.0183,\n",
       "          -0.0905,  0.6142],\n",
       "         [ 1.3419, -0.3146, -0.6512,  0.4213,  0.9180,  0.8846,  0.2138,\n",
       "           0.0432,  0.5821, -0.7765,  0.2507, -0.3816,  0.4799, -0.6748,\n",
       "          -0.1740, -0.1834,  0.1488, -0.2653,  0.5648,  1.0631,  0.6790,\n",
       "          -0.4093,  0.5209, -1.2592,  0.1802,  0.3642,  0.7751,  0.9796,\n",
       "           0.8978,  0.1019]]], grad_fn=<ViewBackward0>)"
      ]
     },
     "execution_count": 6,
     "metadata": {},
     "output_type": "execute_result"
    }
   ],
   "source": [
    "output"
   ]
  },
  {
   "cell_type": "code",
   "execution_count": null,
   "id": "11a1f48d-68b4-4ed7-a087-7fa85e6d4be6",
   "metadata": {},
   "outputs": [],
   "source": []
  }
 ],
 "metadata": {
  "kernelspec": {
   "display_name": "Python 3 (ipykernel)",
   "language": "python",
   "name": "python3"
  },
  "language_info": {
   "codemirror_mode": {
    "name": "ipython",
    "version": 3
   },
   "file_extension": ".py",
   "mimetype": "text/x-python",
   "name": "python",
   "nbconvert_exporter": "python",
   "pygments_lexer": "ipython3",
   "version": "3.11.9"
  }
 },
 "nbformat": 4,
 "nbformat_minor": 5
}
