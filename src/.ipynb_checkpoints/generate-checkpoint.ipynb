{
 "cells": [
  {
   "cell_type": "code",
   "execution_count": null,
   "id": "c834918c-5a04-4171-9c36-94c835a65113",
   "metadata": {},
   "outputs": [],
   "source": []
  },
  {
   "cell_type": "code",
   "execution_count": 2,
   "id": "e53147f9-6783-4737-a2a8-0eef0e1f4262",
   "metadata": {},
   "outputs": [],
   "source": [
    "import torch\n",
    "import torch.nn as nn\n",
    "import torch.optim as optim\n",
    "from torch.utils.data import DataLoader, random_split\n",
    "import yaml\n",
    "import os\n",
    "from datetime import datetime\n",
    "import numpy as np\n",
    "from utils import get_config, resolve_path\n",
    "from sklearn.model_selection import train_test_split\n",
    "import matplotlib.pyplot as plt\n",
    "\n",
    "# Custom modules\n",
    "from dataset2 import APOGEEDataset\n",
    "from model2 import Generator\n",
    "from tqdm import tqdm\n",
    "from checkpoint import save_checkpoint, load_checkpoint"
   ]
  },
  {
   "cell_type": "code",
   "execution_count": 3,
   "id": "d71a51de-44cd-498d-8ad2-4866de79ea4f",
   "metadata": {},
   "outputs": [],
   "source": [
    "def initialize_device():\n",
    "    device = torch.device(\"cuda\" if torch.cuda.is_available() else \"cpu\")\n",
    "    print(f\"Using device: {device}\")\n",
    "    return device"
   ]
  },
  {
   "cell_type": "code",
   "execution_count": 4,
   "id": "35657bb0-3229-42da-be29-c05946a8cc75",
   "metadata": {},
   "outputs": [],
   "source": [
    "def load_configurations():\n",
    "    config = get_config()\n",
    "    data_path = resolve_path(config['paths']['hdf5_data'])\n",
    "    checkpoints_path = resolve_path(config['paths']['checkpoints'])\n",
    "    latent_path = resolve_path(config['paths']['latent'])\n",
    "    plots_path = resolve_path(config['paths']['plots'])\n",
    "    tensorboard_path = resolve_path(config['paths']['tensorboard'])\n",
    "\n",
    "    batch_size = config['training']['batch_size']\n",
    "    num_workers = config['training']['num_workers']\n",
    "    num_epochs = config['training']['num_epochs']\n",
    "    learning_rate = config['training']['learning_rate']\n",
    "    latent_learning_rate = config['training']['latent_learning_rate']\n",
    "    latent_dim = config['training']['latent_dim']\n",
    "    checkpoint_interval = config['training']['checkpoint_interval']\n",
    "\n",
    "    return (config, data_path, checkpoints_path, latent_path, plots_path, tensorboard_path,\n",
    "            batch_size, num_workers, num_epochs, learning_rate, latent_learning_rate, latent_dim, checkpoint_interval)"
   ]
  },
  {
   "cell_type": "code",
   "execution_count": 7,
   "id": "309efe9b-4fe2-4c8d-9a86-8bad6b2d24a0",
   "metadata": {},
   "outputs": [],
   "source": [
    "def weighted_mse(input, target, weight):\n",
    "    assert input.shape == target.shape == weight.shape, f'Shapes of input {input.shape}, target {target.shape}, and weight {weight.shape} must match'\n",
    "    loss = torch.mean(weight * (input - target) ** 2)\n",
    "    return loss"
   ]
  },
  {
   "cell_type": "code",
   "execution_count": 8,
   "id": "58db5a79-2306-4f8b-b909-990e10b299bc",
   "metadata": {},
   "outputs": [],
   "source": [
    "def plot_real_vs_generated_batch(checkpoints_path, latent_path, data_loader, generator, device, batch_index, plots_path):\n",
    "    # Load the latest latent codes\n",
    "    latent_files = sorted(os.listdir(latent_path))\n",
    "    last_latent_file = os.path.join(latent_path, latent_files[-1])\n",
    "    latents = np.load(last_latent_file, allow_pickle=True).item()\n",
    "    \n",
    "    # Find the specific batch\n",
    "    batch = None\n",
    "    for i, batch_data in enumerate(data_loader):\n",
    "        if i == batch_index:\n",
    "            batch = batch_data\n",
    "            break\n",
    "\n",
    "    # Ensure the batch is found\n",
    "    if batch is None:\n",
    "        raise ValueError(f\"Batch index {batch_index} not found in the data loader.\")\n",
    "    \n",
    "    # Extract the indexes and spectra from the batch\n",
    "    indices = batch['index']\n",
    "    real_spectra = batch['flux']\n",
    "    masks = batch['flux_mask']\n",
    "    \n",
    "    # Generate the spectra using the generator model\n",
    "    generator.eval()\n",
    "    with torch.no_grad():\n",
    "        latent_codes = torch.tensor(latents['latent_codes'][indices]).to(device)\n",
    "        generated_spectra = generator(latent_codes).cpu().numpy()\n",
    "    \n",
    "    # Plot real vs generated spectra for each index in the batch\n",
    "    for i, index in enumerate(indices):\n",
    "        real_spectrum = real_spectra[i].cpu().numpy()\n",
    "        generated_spectrum = generated_spectra[i]\n",
    "        mask = masks[i].cpu()\n",
    "\n",
    "        mse = weighted_mse(torch.tensor(generated_spectrum), torch.tensor(real_spectrum), mask).item()\n",
    "\n",
    "        \n",
    "        plt.figure(figsize=(10, 5))\n",
    "        plt.plot(real_spectrum, label='Real Spectrum', color='blue', alpha=0.7, linewidth=0.5)\n",
    "        plt.plot(generated_spectrum, label='Generated Spectrum', color='red', alpha=0.7, linewidth=0.5)\n",
    "        plt.title(f'Comparison of Real and Generated Spectra for Spectrum Index {index}\\nMasked MSE: {mse:.4f}')\n",
    "        plt.xlabel('Wavelength Index')\n",
    "        plt.ylabel('Flux')\n",
    "        plt.legend()\n",
    "        plt.grid(True)\n",
    "        plt.show()\n",
    "        plt.savefig(os.path.join(plots_path, f'real_vs_generated_{index}.png'))\n",
    "        plt.close()"
   ]
  },
  {
   "cell_type": "code",
   "execution_count": 9,
   "id": "5dd225af-9758-433c-8cc3-f4c1ddc9410e",
   "metadata": {},
   "outputs": [
    {
     "name": "stdout",
     "output_type": "stream",
     "text": [
      "initializing device ..\n",
      "Using device: cuda\n",
      "loading config..\n"
     ]
    },
    {
     "ename": "NameError",
     "evalue": "name 'mask' is not defined",
     "output_type": "error",
     "traceback": [
      "\u001b[0;31m---------------------------------------------------------------------------\u001b[0m",
      "\u001b[0;31mNameError\u001b[0m                                 Traceback (most recent call last)",
      "Cell \u001b[0;32mIn[9], line 22\u001b[0m\n\u001b[1;32m     20\u001b[0m \u001b[38;5;66;03m# Plot the real vs generated spectra for the first batch (you can change the batch index as needed)\u001b[39;00m\n\u001b[1;32m     21\u001b[0m batch_index \u001b[38;5;241m=\u001b[39m \u001b[38;5;241m0\u001b[39m\n\u001b[0;32m---> 22\u001b[0m \u001b[43mplot_real_vs_generated_batch\u001b[49m\u001b[43m(\u001b[49m\u001b[43mcheckpoints_path\u001b[49m\u001b[43m,\u001b[49m\u001b[43m \u001b[49m\u001b[43mlatent_path\u001b[49m\u001b[43m,\u001b[49m\u001b[43m \u001b[49m\u001b[43mtrain_loader\u001b[49m\u001b[43m,\u001b[49m\u001b[43m \u001b[49m\u001b[43mgenerator\u001b[49m\u001b[43m,\u001b[49m\u001b[43m \u001b[49m\u001b[43mdevice\u001b[49m\u001b[43m,\u001b[49m\u001b[43m \u001b[49m\u001b[43mbatch_index\u001b[49m\u001b[43m,\u001b[49m\u001b[43m \u001b[49m\u001b[43mplots_path\u001b[49m\u001b[43m)\u001b[49m\n",
      "Cell \u001b[0;32mIn[8], line 33\u001b[0m, in \u001b[0;36mplot_real_vs_generated_batch\u001b[0;34m(checkpoints_path, latent_path, data_loader, generator, device, batch_index, plots_path)\u001b[0m\n\u001b[1;32m     31\u001b[0m real_spectrum \u001b[38;5;241m=\u001b[39m real_spectra[i]\u001b[38;5;241m.\u001b[39mcpu()\u001b[38;5;241m.\u001b[39mnumpy()\n\u001b[1;32m     32\u001b[0m generated_spectrum \u001b[38;5;241m=\u001b[39m generated_spectra[i]\n\u001b[0;32m---> 33\u001b[0m mse \u001b[38;5;241m=\u001b[39m weighted_mse(torch\u001b[38;5;241m.\u001b[39mtensor(generated_spectrum), torch\u001b[38;5;241m.\u001b[39mtensor(real_spectrum), \u001b[43mmask\u001b[49m)\u001b[38;5;241m.\u001b[39mitem()\n\u001b[1;32m     36\u001b[0m plt\u001b[38;5;241m.\u001b[39mfigure(figsize\u001b[38;5;241m=\u001b[39m(\u001b[38;5;241m10\u001b[39m, \u001b[38;5;241m5\u001b[39m))\n\u001b[1;32m     37\u001b[0m plt\u001b[38;5;241m.\u001b[39mplot(real_spectrum, label\u001b[38;5;241m=\u001b[39m\u001b[38;5;124m'\u001b[39m\u001b[38;5;124mReal Spectrum\u001b[39m\u001b[38;5;124m'\u001b[39m, color\u001b[38;5;241m=\u001b[39m\u001b[38;5;124m'\u001b[39m\u001b[38;5;124mblue\u001b[39m\u001b[38;5;124m'\u001b[39m, alpha\u001b[38;5;241m=\u001b[39m\u001b[38;5;241m0.7\u001b[39m, linewidth\u001b[38;5;241m=\u001b[39m\u001b[38;5;241m0.5\u001b[39m)\n",
      "\u001b[0;31mNameError\u001b[0m: name 'mask' is not defined"
     ]
    }
   ],
   "source": [
    "print(\"initializing device ..\")\n",
    "device = initialize_device()\n",
    "print(\"loading config..\")\n",
    "(config, data_path, checkpoints_path, latent_path, plots_path, tensorboard_path,\n",
    " batch_size, num_workers, num_epochs, learning_rate, latent_learning_rate, latent_dim, checkpoint_interval) = load_configurations()\n",
    "\n",
    "# Initialize the dataset and data loader\n",
    "dataset = APOGEEDataset(data_path, max_files=config['training']['max_files'])\n",
    "train_loader = torch.utils.data.DataLoader(dataset, batch_size=batch_size, shuffle=True, num_workers=num_workers)\n",
    "\n",
    "# Initialize the generator model\n",
    "generator = Generator(config['training']['latent_dim'], config['model']['output_dim'], config['model']['generator_layers'], config['model']['activation_function']).to(device)\n",
    "\n",
    "# Load the latest checkpoint if available\n",
    "latest_checkpoint_path = os.path.join(checkpoints_path, 'checkpoint_latest.pth.tar')\n",
    "if os.path.exists(latest_checkpoint_path):\n",
    "    checkpoint = torch.load(latest_checkpoint_path)\n",
    "    generator.load_state_dict(checkpoint['state_dict'])\n",
    "\n",
    "# Plot the real vs generated spectra for the first batch (you can change the batch index as needed)\n",
    "batch_index = 0\n",
    "plot_real_vs_generated_batch(checkpoints_path, latent_path, train_loader, generator, device, batch_index, plots_path)"
   ]
  },
  {
   "cell_type": "code",
   "execution_count": null,
   "id": "1e6b14ed-dfb2-48d9-86e3-8aff229742fe",
   "metadata": {},
   "outputs": [],
   "source": []
  }
 ],
 "metadata": {
  "kernelspec": {
   "display_name": "Python 3 (ipykernel)",
   "language": "python",
   "name": "python3"
  },
  "language_info": {
   "codemirror_mode": {
    "name": "ipython",
    "version": 3
   },
   "file_extension": ".py",
   "mimetype": "text/x-python",
   "name": "python",
   "nbconvert_exporter": "python",
   "pygments_lexer": "ipython3",
   "version": "3.11.8"
  }
 },
 "nbformat": 4,
 "nbformat_minor": 5
}
