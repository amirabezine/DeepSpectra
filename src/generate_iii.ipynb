{
 "cells": [
  {
   "cell_type": "code",
   "execution_count": 1,
   "id": "f6813fcc-4b9e-4698-b8ae-011b07a05b9e",
   "metadata": {},
   "outputs": [],
   "source": [
    "import torch\n",
    "from torch.utils.data import DataLoader\n",
    "import numpy as np\n",
    "import matplotlib.pyplot as plt\n",
    "import h5py\n",
    "import os\n",
    "from dataset_pe import IterableSpectraDataset, collate_fn\n",
    "from model_pe import Generator\n",
    "from utils import get_config2, resolve_path\n",
    "from glob import glob"
   ]
  },
  {
   "cell_type": "code",
   "execution_count": 2,
   "id": "86ba4ae8-3ca5-473e-a89e-f81f6f939415",
   "metadata": {},
   "outputs": [],
   "source": [
    "\n",
    "# Function to load the configuration\n",
    "def load_configurations():\n",
    "    config = get_config2()\n",
    "    dataset_name = config['dataset_name']\n",
    "    dataset_config = config['datasets'][dataset_name]\n",
    "    data_path = resolve_path(dataset_config['path'])\n",
    "    checkpoints_path = resolve_path(config['paths']['checkpoints'])\n",
    "    batch_size = config['training']['batch_size']\n",
    "    return config, data_path, checkpoints_path, batch_size\n"
   ]
  },
  {
   "cell_type": "code",
   "execution_count": 3,
   "id": "0329e2ef-30b2-4b4b-b373-b0ceea3aba6d",
   "metadata": {},
   "outputs": [],
   "source": [
    "# Function to prepare the dataset\n",
    "def prepare_datasets(data_path, batch_size, yield_full_spectrum=True):\n",
    "    dataset = IterableSpectraDataset(data_path, is_validation=False, yield_full_spectrum=yield_full_spectrum)\n",
    "    data_loader = DataLoader(dataset, batch_size=batch_size, collate_fn=collate_fn, num_workers=4, pin_memory=True)\n",
    "    return data_loader"
   ]
  },
  {
   "cell_type": "code",
   "execution_count": 4,
   "id": "c040b3d2-8e33-430b-8c13-abef234968bb",
   "metadata": {},
   "outputs": [],
   "source": [
    "# Function to load the optimized latent codes from HDF5 file\n",
    "def load_optimized_latent_codes(file_list):\n",
    "    latent_codes = {}\n",
    "    for file_path in file_list:\n",
    "        with h5py.File(file_path, 'r') as f:\n",
    "            for group_name in f.keys():\n",
    "                group = f[group_name]\n",
    "                if 'optimized_latent_code/latest' in group:\n",
    "                    latent_codes[group_name] = torch.tensor(group['optimized_latent_code/latest'][:], dtype=torch.float32)\n",
    "    return latent_codes\n"
   ]
  },
  {
   "cell_type": "code",
   "execution_count": 5,
   "id": "219243d0-05f4-4edb-9283-701391d4ddfd",
   "metadata": {},
   "outputs": [],
   "source": [
    "def generate_full_spectra(generator, latent_codes, batch):\n",
    "    unique_ids = [uid.decode('utf-8') if isinstance(uid, bytes) else uid for uid in batch['spectrum_id']]\n",
    "    valid_ids = [uid for uid in unique_ids if uid in latent_codes]\n",
    "    latent_vectors = torch.stack([latent_codes[uid] for uid in valid_ids])\n",
    "    generated_spectra = generator(latent_vectors, batch['wavelength'])\n",
    "    return generated_spectra, valid_ids\n"
   ]
  },
  {
   "cell_type": "code",
   "execution_count": 6,
   "id": "4b8a18f5-445c-4089-9426-570b08421a0e",
   "metadata": {},
   "outputs": [],
   "source": [
    "def plot_spectra(batch, generated_spectra, valid_ids, num_spectra=10):\n",
    "    wavelength_grid = batch['wavelength'][0].numpy()\n",
    "    for i in range(min(num_spectra, len(valid_ids))):\n",
    "        unique_id = valid_ids[i]\n",
    "        index = batch['spectrum_id'].index(unique_id)\n",
    "        flux_interpolated = batch['flux'][index].numpy()\n",
    "        generated_flux = generated_spectra[i].detach().cpu().numpy()\n",
    "\n",
    "        # Plot the original and generated spectra\n",
    "        plt.figure(figsize=(10, 5))\n",
    "        plt.plot(wavelength_grid, flux_interpolated, label='Original Flux', color='blue', alpha=0.7, linewidth=0.5)\n",
    "        plt.plot(wavelength_grid, generated_flux, label='Generated Flux', color='red', alpha=0.7, linewidth=0.5)\n",
    "        plt.xlabel('Wavelength')\n",
    "        plt.ylabel('Flux')\n",
    "        # Set xlim based on unique_id\n",
    "        if '_apogee_' in unique_id:\n",
    "            plt.xlim(15000, 17005)\n",
    "        elif '_galah_' in unique_id:\n",
    "            plt.xlim(4700, 7895)\n",
    "        plt.title(f'Spectrum for ID: {unique_id}')\n",
    "        plt.legend()\n",
    "        plt.grid(True)\n",
    "        plt.show()\n"
   ]
  },
  {
   "cell_type": "code",
   "execution_count": 7,
   "id": "1fe7361b-9695-4f2e-9aaa-c097afe27a35",
   "metadata": {},
   "outputs": [
    {
     "name": "stdout",
     "output_type": "stream",
     "text": [
      "Initializing device...\n",
      "Using device: cpu\n",
      "Loading configurations...\n"
     ]
    }
   ],
   "source": [
    "print(\"Initializing device...\")\n",
    "device = torch.device(\"cuda\" if torch.cuda.is_available() else \"cpu\")\n",
    "print(f\"Using device: {device}\")\n",
    "\n",
    "print(\"Loading configurations...\")\n",
    "config, data_path, checkpoints_path, batch_size = load_configurations()\n"
   ]
  },
  {
   "cell_type": "code",
   "execution_count": 8,
   "id": "68d42d52-b32d-4ebc-97e7-bffa50b645f4",
   "metadata": {},
   "outputs": [
    {
     "name": "stdout",
     "output_type": "stream",
     "text": [
      "Preparing datasets with full spectra...\n",
      "Initializing model...\n"
     ]
    },
    {
     "data": {
      "text/plain": [
       "Generator(\n",
       "  (wavelength_encoder): RandGaus(\n",
       "    (mapping): Linear(in_features=1, out_features=4, bias=False)\n",
       "  )\n",
       "  (model): Sequential(\n",
       "    (0): Linear(in_features=24, out_features=24, bias=True)\n",
       "    (1): LeakyReLU(negative_slope=0.2)\n",
       "    (2): Linear(in_features=24, out_features=256, bias=True)\n",
       "    (3): LeakyReLU(negative_slope=0.2)\n",
       "    (4): Linear(in_features=256, out_features=512, bias=True)\n",
       "    (5): LeakyReLU(negative_slope=0.2)\n",
       "    (6): Linear(in_features=512, out_features=256, bias=True)\n",
       "    (7): LeakyReLU(negative_slope=0.2)\n",
       "    (8): Linear(in_features=256, out_features=200, bias=True)\n",
       "  )\n",
       ")"
      ]
     },
     "execution_count": 8,
     "metadata": {},
     "output_type": "execute_result"
    }
   ],
   "source": [
    "print(\"Preparing datasets with full spectra...\")\n",
    "data_loader_full_spectra = prepare_datasets(data_path, batch_size, yield_full_spectrum=True)\n",
    "\n",
    "print(\"Initializing model...\")\n",
    "generator = Generator(config['training']['latent_dim'], config['model']['output_dim'], config['model']['generator_layers'] ,  config['model']['max_wavelength'],  config['model']['activation_function'] ,  config['model']['pe_dim']).to(device)\n",
    "generator.load_state_dict(torch.load(os.path.join(checkpoints_path, 'checkpoint_best.pth.tar'))['state_dict'])\n",
    "generator.eval()\n"
   ]
  },
  {
   "cell_type": "code",
   "execution_count": 9,
   "id": "67659ef9-aac1-46c4-9256-4f25ae0774ae",
   "metadata": {},
   "outputs": [
    {
     "name": "stdout",
     "output_type": "stream",
     "text": [
      "Loading optimized latent codes...\n"
     ]
    }
   ],
   "source": [
    "print(\"Loading optimized latent codes...\")\n",
    "file_list = glob(os.path.join(data_path, 'spectra_healpix_*.hdf5'))\n",
    "latent_codes = load_optimized_latent_codes(file_list)\n"
   ]
  },
  {
   "cell_type": "code",
   "execution_count": 1,
   "id": "75e22f59-86f6-4ca2-a541-759209af60d0",
   "metadata": {},
   "outputs": [
    {
     "ename": "NameError",
     "evalue": "name 'data_loader_full_spectra' is not defined",
     "output_type": "error",
     "traceback": [
      "\u001b[0;31m---------------------------------------------------------------------------\u001b[0m",
      "\u001b[0;31mNameError\u001b[0m                                 Traceback (most recent call last)",
      "Cell \u001b[0;32mIn[1], line 1\u001b[0m\n\u001b[0;32m----> 1\u001b[0m \u001b[38;5;28;01mfor\u001b[39;00m batch \u001b[38;5;129;01min\u001b[39;00m \u001b[43mdata_loader_full_spectra\u001b[49m:\n\u001b[1;32m      2\u001b[0m     generated_spectra, valid_ids \u001b[38;5;241m=\u001b[39m generate_full_spectra(generator, latent_codes, batch)\n\u001b[1;32m      3\u001b[0m     plot_spectra(batch, generated_spectra, valid_ids, num_spectra\u001b[38;5;241m=\u001b[39m\u001b[38;5;241m1\u001b[39m)\n",
      "\u001b[0;31mNameError\u001b[0m: name 'data_loader_full_spectra' is not defined"
     ]
    }
   ],
   "source": [
    "for batch in data_loader_full_spectra:\n",
    "    generated_spectra, valid_ids = generate_full_spectra(generator, latent_codes, batch)\n",
    "    plot_spectra(batch, generated_spectra, valid_ids, num_spectra=1)\n",
    "    print(generated_spectra.shape)\n",
    "    break  # Only process the first batch"
   ]
  },
  {
   "cell_type": "code",
   "execution_count": null,
   "id": "2bfef445-0721-4cab-8d7c-441beebd519c",
   "metadata": {},
   "outputs": [],
   "source": []
  }
 ],
 "metadata": {
  "kernelspec": {
   "display_name": "Python 3 (ipykernel)",
   "language": "python",
   "name": "python3"
  },
  "language_info": {
   "codemirror_mode": {
    "name": "ipython",
    "version": 3
   },
   "file_extension": ".py",
   "mimetype": "text/x-python",
   "name": "python",
   "nbconvert_exporter": "python",
   "pygments_lexer": "ipython3",
   "version": "3.11.9"
  }
 },
 "nbformat": 4,
 "nbformat_minor": 5
}
