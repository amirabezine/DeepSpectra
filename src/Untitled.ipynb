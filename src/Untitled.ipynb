{
 "cells": [
  {
   "cell_type": "code",
   "execution_count": 1,
   "id": "cf5c7fe9-6cfd-45be-ba2a-54705bfc183d",
   "metadata": {},
   "outputs": [],
   "source": [
    "import torch\n",
    "import torch.nn as nn\n",
    "import matplotlib.pyplot as plt\n",
    "from model import Generator\n",
    "from dataset import APOGEEDataset\n",
    "from torch.utils.data import DataLoader\n",
    "from utils import resolve_path, get_config"
   ]
  },
  {
   "cell_type": "code",
   "execution_count": 2,
   "id": "a5c63d7d-4aca-4b47-902d-3a3f49a9045b",
   "metadata": {},
   "outputs": [],
   "source": [
    "\n",
    "\n",
    "def load_model(config, checkpoint_path, output_dim):\n",
    "    latent_dim = config['training']['latent_dim']\n",
    "    generator_layers = config['model']['generator_layers']\n",
    "    activation_function = getattr(torch.nn, config['model']['activation_function'])\n",
    "    \n",
    "    # Initialize the generator model with the correct output_dim\n",
    "    generator = Generator(latent_dim, output_dim, generator_layers, activation_function)\n",
    "    \n",
    "    # Load the saved model weights\n",
    "    checkpoint = torch.load(checkpoint_path, map_location=torch.device('cpu'))\n",
    "    generator.load_state_dict(checkpoint['state_dict'], strict=False)\n",
    "    \n",
    "    return generator\n",
    "\n"
   ]
  },
  {
   "cell_type": "code",
   "execution_count": 3,
   "id": "f1cd5dca-9d9f-4f66-9b47-1558578fe9b0",
   "metadata": {},
   "outputs": [],
   "source": [
    "def generate_spectrum(generator, latent_dim):\n",
    "    # Generate a random latent vector\n",
    "    latent_vector = torch.randn(1, latent_dim)\n",
    "    \n",
    "    # Use the generator to produce a new spectrum\n",
    "    with torch.no_grad():\n",
    "        generated_spectrum = generator(latent_vector).cpu().numpy().flatten()\n",
    "    \n",
    "    return generated_spectrum"
   ]
  },
  {
   "cell_type": "code",
   "execution_count": 4,
   "id": "a5316404-8286-45f2-beba-f2706a2c78b0",
   "metadata": {},
   "outputs": [],
   "source": [
    "def plot_spectrum(wavelength, generated_flux, original_flux=None):\n",
    "    import matplotlib.pyplot as plt\n",
    "    import numpy as np\n",
    "\n",
    "    # Ensure wavelength and generated_flux are numpy arrays\n",
    "    wavelength = np.array(wavelength).flatten()\n",
    "    generated_flux = np.array(generated_flux).flatten()\n",
    "    \n",
    "    # Print the shapes for debugging\n",
    "    print(\"wavelength shape:\", wavelength.shape)\n",
    "    print(\"generated_flux shape:\", generated_flux.shape)\n",
    "    if original_flux is not None:\n",
    "        original_flux = np.array(original_flux).flatten()\n",
    "        print(\"original_flux shape:\", original_flux.shape)\n",
    "    \n",
    "    # Sanity check on the sizes\n",
    "    if wavelength.shape[0] != generated_flux.shape[0]:\n",
    "        print(\"Mismatch in wavelength and generated_flux array sizes.\")\n",
    "        return\n",
    "\n",
    "    if original_flux is not None and original_flux.shape[0] != wavelength.shape[0]:\n",
    "        print(\"Mismatch in wavelength and original_flux array sizes.\")\n",
    "        return\n",
    "\n",
    "    plt.figure(figsize=(10, 6))\n",
    "    plt.plot(wavelength, generated_flux, label='Generated Flux', color='blue')\n",
    "    if original_flux is not None:\n",
    "        plt.plot(wavelength, original_flux, label='Original Flux', color='red', alpha=0.5)\n",
    "    plt.xlabel('Wavelength')\n",
    "    plt.ylabel('Flux')\n",
    "    plt.title('Flux vs. Wavelength')\n",
    "    plt.legend()\n",
    "    plt.show()\n"
   ]
  },
  {
   "cell_type": "code",
   "execution_count": 6,
   "id": "8c106de8-fbda-4801-bfe1-b88f1112d692",
   "metadata": {},
   "outputs": [
    {
     "name": "stdout",
     "output_type": "stream",
     "text": [
      "wavelength shape: (8575,)\n",
      "generated_flux shape: (1,)\n",
      "original_flux shape: (8575,)\n",
      "Mismatch in wavelength and generated_flux array sizes.\n"
     ]
    }
   ],
   "source": [
    "if __name__ == \"__main__\":\n",
    "    config = get_config()\n",
    "    \n",
    "    hdf5_path = resolve_path(config['paths']['hdf5_data'])\n",
    "    dataset = APOGEEDataset(\"../data/hdf5/spectra3.hdf5\", max_files=1)  # Load a single file to get the output_dim\n",
    "    dataloader = DataLoader(dataset, batch_size=1, shuffle=True)\n",
    "    \n",
    "    sample = next(iter(dataloader))\n",
    "    flux_example = sample['flux']\n",
    "    wavelength_example = sample['wavelength']\n",
    "    output_dim = flux_example.size(0)  # Determine the output_dim based on the sample\n",
    "    \n",
    "    best_model_path = resolve_path(config['paths']['checkpoints']) + '/checkpoint_best.pth.tar'\n",
    "    generator = load_model(config, best_model_path, output_dim)\n",
    "    \n",
    "    generated_spectrum = generate_spectrum(generator, config['training']['latent_dim'])\n",
    "    plot_spectrum(wavelength_example.numpy(), generated_spectrum, original_flux=flux_example.numpy())\n"
   ]
  },
  {
   "cell_type": "code",
   "execution_count": null,
   "id": "02afd461-7f74-4bef-8af5-9b0a79ed9e6e",
   "metadata": {},
   "outputs": [],
   "source": []
  }
 ],
 "metadata": {
  "kernelspec": {
   "display_name": "Python 3 (ipykernel)",
   "language": "python",
   "name": "python3"
  },
  "language_info": {
   "codemirror_mode": {
    "name": "ipython",
    "version": 3
   },
   "file_extension": ".py",
   "mimetype": "text/x-python",
   "name": "python",
   "nbconvert_exporter": "python",
   "pygments_lexer": "ipython3",
   "version": "3.11.8"
  }
 },
 "nbformat": 4,
 "nbformat_minor": 5
}
