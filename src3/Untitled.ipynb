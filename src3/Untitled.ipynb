{
 "cells": [
  {
   "cell_type": "code",
   "execution_count": 1,
   "id": "87593058-1436-4865-8895-db2a2c12d893",
   "metadata": {},
   "outputs": [],
   "source": [
    "import torch\n",
    "import torch.nn as nn\n",
    "import torch.nn.functional as F\n",
    "import numpy as np\n",
    "from pe import PositionalEncoding\n",
    "from model import Generator, DownsamplingLayer, FullNetwork"
   ]
  },
  {
   "cell_type": "code",
   "execution_count": 2,
   "id": "d83b205c-413c-4349-a9a1-56b02dbd8129",
   "metadata": {},
   "outputs": [
    {
     "ename": "TypeError",
     "evalue": "Generator.__init__() missing 1 required positional argument: 'output_dim'",
     "output_type": "error",
     "traceback": [
      "\u001b[0;31m---------------------------------------------------------------------------\u001b[0m",
      "\u001b[0;31mTypeError\u001b[0m                                 Traceback (most recent call last)",
      "Cell \u001b[0;32mIn[2], line 14\u001b[0m\n\u001b[1;32m     11\u001b[0m pe_args \u001b[38;5;241m=\u001b[39m (\u001b[38;5;241m1\u001b[39m, pe_dim, \u001b[38;5;241m10.0\u001b[39m, \u001b[38;5;241m1.0\u001b[39m, \u001b[38;5;28;01mTrue\u001b[39;00m, \u001b[38;5;241m42\u001b[39m)\n\u001b[1;32m     13\u001b[0m \u001b[38;5;66;03m# Initialize network\u001b[39;00m\n\u001b[0;32m---> 14\u001b[0m network \u001b[38;5;241m=\u001b[39m \u001b[43mFullNetwork\u001b[49m\u001b[43m(\u001b[49m\u001b[43mlatent_dim\u001b[49m\u001b[43m,\u001b[49m\u001b[43m \u001b[49m\u001b[43mpe_args\u001b[49m\u001b[43m,\u001b[49m\u001b[43m \u001b[49m\u001b[43mhidden_dim\u001b[49m\u001b[43m,\u001b[49m\u001b[43m \u001b[49m\u001b[43moutput_dim\u001b[49m\u001b[43m,\u001b[49m\u001b[43m \u001b[49m\u001b[43mdownsample_dims\u001b[49m\u001b[43m)\u001b[49m\n\u001b[1;32m     16\u001b[0m \u001b[38;5;66;03m# Dummy data\u001b[39;00m\n\u001b[1;32m     17\u001b[0m latent \u001b[38;5;241m=\u001b[39m torch\u001b[38;5;241m.\u001b[39mrandn(batch_size, latent_dim)\n",
      "File \u001b[0;32m~/deepSpectra/src3/model.py:33\u001b[0m, in \u001b[0;36mFullNetwork.__init__\u001b[0;34m(self, latent_dim, pe_args, hidden_dim, output_dim, downsample_dims)\u001b[0m\n\u001b[1;32m     31\u001b[0m \u001b[38;5;28msuper\u001b[39m(FullNetwork, \u001b[38;5;28mself\u001b[39m)\u001b[38;5;241m.\u001b[39m\u001b[38;5;21m__init__\u001b[39m()\n\u001b[1;32m     32\u001b[0m \u001b[38;5;28mself\u001b[39m\u001b[38;5;241m.\u001b[39mpositional_encoding \u001b[38;5;241m=\u001b[39m PositionalEncoding(pe_args)\n\u001b[0;32m---> 33\u001b[0m \u001b[38;5;28mself\u001b[39m\u001b[38;5;241m.\u001b[39mgenerator \u001b[38;5;241m=\u001b[39m \u001b[43mGenerator\u001b[49m\u001b[43m(\u001b[49m\u001b[43mlatent_dim\u001b[49m\u001b[43m \u001b[49m\u001b[38;5;241;43m+\u001b[39;49m\u001b[43m \u001b[49m\u001b[43mpe_args\u001b[49m\u001b[43m[\u001b[49m\u001b[38;5;241;43m1\u001b[39;49m\u001b[43m]\u001b[49m\u001b[43m,\u001b[49m\u001b[43m \u001b[49m\u001b[43mhidden_dim\u001b[49m\u001b[43m,\u001b[49m\u001b[43m \u001b[49m\u001b[43mdownsample_dims\u001b[49m\u001b[43m[\u001b[49m\u001b[38;5;241;43m0\u001b[39;49m\u001b[43m]\u001b[49m\u001b[43m)\u001b[49m\n\u001b[1;32m     34\u001b[0m \u001b[38;5;28mself\u001b[39m\u001b[38;5;241m.\u001b[39mdownsampling_layers \u001b[38;5;241m=\u001b[39m nn\u001b[38;5;241m.\u001b[39mModuleList([\n\u001b[1;32m     35\u001b[0m     DownsamplingLayer(downsample_dims[\u001b[38;5;241m0\u001b[39m], d) \u001b[38;5;28;01mfor\u001b[39;00m d \u001b[38;5;129;01min\u001b[39;00m downsample_dims[\u001b[38;5;241m1\u001b[39m:]\n\u001b[1;32m     36\u001b[0m ])\n\u001b[1;32m     37\u001b[0m \u001b[38;5;28mself\u001b[39m\u001b[38;5;241m.\u001b[39mlatent_dim \u001b[38;5;241m=\u001b[39m latent_dim\n",
      "\u001b[0;31mTypeError\u001b[0m: Generator.__init__() missing 1 required positional argument: 'output_dim'"
     ]
    }
   ],
   "source": [
    "if __name__ == \"__main__\":\n",
    "    # Example usage\n",
    "    batch_size = 16\n",
    "    latent_dim = 64\n",
    "    pe_dim = 128\n",
    "    hidden_dim = 256\n",
    "    output_dim = 512\n",
    "    downsample_dims = [output_dim, 256, 128, 64]  # Example dimensions\n",
    "\n",
    "    # Positional encoding arguments: (dim, pe_dim, omega, sigma, pe_bias, seed)\n",
    "    pe_args = (1, pe_dim, 10.0, 1.0, True, 42)\n",
    "\n",
    "    # Initialize network\n",
    "    network = FullNetwork(latent_dim, pe_args, hidden_dim, output_dim, downsample_dims)\n",
    "    \n",
    "    # Dummy data\n",
    "    latent = torch.randn(batch_size, latent_dim)\n",
    "    wavelength_grid = torch.linspace(0, 1, output_dim).unsqueeze(0).expand(batch_size, -1)\n",
    "\n",
    "    # Forward pass\n",
    "    output = network(latent, wavelength_grid)\n",
    "    print(output.shape)  # Should match the last dimension in downsample_dims"
   ]
  },
  {
   "cell_type": "code",
   "execution_count": null,
   "id": "8915a64f-9a5e-4839-a0aa-1d46fbd5f878",
   "metadata": {},
   "outputs": [],
   "source": []
  }
 ],
 "metadata": {
  "kernelspec": {
   "display_name": "Python 3 (ipykernel)",
   "language": "python",
   "name": "python3"
  },
  "language_info": {
   "codemirror_mode": {
    "name": "ipython",
    "version": 3
   },
   "file_extension": ".py",
   "mimetype": "text/x-python",
   "name": "python",
   "nbconvert_exporter": "python",
   "pygments_lexer": "ipython3",
   "version": "3.11.9"
  }
 },
 "nbformat": 4,
 "nbformat_minor": 5
}
